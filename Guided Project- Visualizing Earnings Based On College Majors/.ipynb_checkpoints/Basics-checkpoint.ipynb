{
 "cells": [
  {
   "cell_type": "code",
   "execution_count": 20,
   "metadata": {
    "collapsed": true
   },
   "outputs": [],
   "source": [
    "import pandas as pd\n",
    "import matplotlib.pyplot as plt\n",
    "%matplotlib inline"
   ]
  },
  {
   "cell_type": "code",
   "execution_count": 21,
   "metadata": {
    "collapsed": true
   },
   "outputs": [],
   "source": [
    "recent_grads = pd.read_csv('recent-grads.csv')"
   ]
  },
  {
   "cell_type": "code",
   "execution_count": 22,
   "metadata": {
    "collapsed": false
   },
   "outputs": [
    {
     "data": {
      "text/plain": [
       "Rank                                        1\n",
       "Major_code                               2419\n",
       "Major                   PETROLEUM ENGINEERING\n",
       "Total                                    2339\n",
       "Men                                      2057\n",
       "Women                                     282\n",
       "Major_category                    Engineering\n",
       "ShareWomen                           0.120564\n",
       "Sample_size                                36\n",
       "Employed                                 1976\n",
       "Full_time                                1849\n",
       "Part_time                                 270\n",
       "Full_time_year_round                     1207\n",
       "Unemployed                                 37\n",
       "Unemployment_rate                   0.0183805\n",
       "Median                                 110000\n",
       "P25th                                   95000\n",
       "P75th                                  125000\n",
       "College_jobs                             1534\n",
       "Non_college_jobs                          364\n",
       "Low_wage_jobs                             193\n",
       "Name: 0, dtype: object"
      ]
     },
     "execution_count": 22,
     "metadata": {},
     "output_type": "execute_result"
    }
   ],
   "source": [
    "recent_grads.iloc[0]"
   ]
  },
  {
   "cell_type": "code",
   "execution_count": 23,
   "metadata": {
    "collapsed": false
   },
   "outputs": [
    {
     "data": {
      "text/html": [
       "<div>\n",
       "<table border=\"1\" class=\"dataframe\">\n",
       "  <thead>\n",
       "    <tr style=\"text-align: right;\">\n",
       "      <th></th>\n",
       "      <th>Rank</th>\n",
       "      <th>Major_code</th>\n",
       "      <th>Major</th>\n",
       "      <th>Total</th>\n",
       "      <th>Men</th>\n",
       "      <th>Women</th>\n",
       "      <th>Major_category</th>\n",
       "      <th>ShareWomen</th>\n",
       "      <th>Sample_size</th>\n",
       "      <th>Employed</th>\n",
       "      <th>...</th>\n",
       "      <th>Part_time</th>\n",
       "      <th>Full_time_year_round</th>\n",
       "      <th>Unemployed</th>\n",
       "      <th>Unemployment_rate</th>\n",
       "      <th>Median</th>\n",
       "      <th>P25th</th>\n",
       "      <th>P75th</th>\n",
       "      <th>College_jobs</th>\n",
       "      <th>Non_college_jobs</th>\n",
       "      <th>Low_wage_jobs</th>\n",
       "    </tr>\n",
       "  </thead>\n",
       "  <tbody>\n",
       "    <tr>\n",
       "      <th>0</th>\n",
       "      <td>1</td>\n",
       "      <td>2419</td>\n",
       "      <td>PETROLEUM ENGINEERING</td>\n",
       "      <td>2339.0</td>\n",
       "      <td>2057.0</td>\n",
       "      <td>282.0</td>\n",
       "      <td>Engineering</td>\n",
       "      <td>0.120564</td>\n",
       "      <td>36</td>\n",
       "      <td>1976</td>\n",
       "      <td>...</td>\n",
       "      <td>270</td>\n",
       "      <td>1207</td>\n",
       "      <td>37</td>\n",
       "      <td>0.018381</td>\n",
       "      <td>110000</td>\n",
       "      <td>95000</td>\n",
       "      <td>125000</td>\n",
       "      <td>1534</td>\n",
       "      <td>364</td>\n",
       "      <td>193</td>\n",
       "    </tr>\n",
       "    <tr>\n",
       "      <th>1</th>\n",
       "      <td>2</td>\n",
       "      <td>2416</td>\n",
       "      <td>MINING AND MINERAL ENGINEERING</td>\n",
       "      <td>756.0</td>\n",
       "      <td>679.0</td>\n",
       "      <td>77.0</td>\n",
       "      <td>Engineering</td>\n",
       "      <td>0.101852</td>\n",
       "      <td>7</td>\n",
       "      <td>640</td>\n",
       "      <td>...</td>\n",
       "      <td>170</td>\n",
       "      <td>388</td>\n",
       "      <td>85</td>\n",
       "      <td>0.117241</td>\n",
       "      <td>75000</td>\n",
       "      <td>55000</td>\n",
       "      <td>90000</td>\n",
       "      <td>350</td>\n",
       "      <td>257</td>\n",
       "      <td>50</td>\n",
       "    </tr>\n",
       "    <tr>\n",
       "      <th>2</th>\n",
       "      <td>3</td>\n",
       "      <td>2415</td>\n",
       "      <td>METALLURGICAL ENGINEERING</td>\n",
       "      <td>856.0</td>\n",
       "      <td>725.0</td>\n",
       "      <td>131.0</td>\n",
       "      <td>Engineering</td>\n",
       "      <td>0.153037</td>\n",
       "      <td>3</td>\n",
       "      <td>648</td>\n",
       "      <td>...</td>\n",
       "      <td>133</td>\n",
       "      <td>340</td>\n",
       "      <td>16</td>\n",
       "      <td>0.024096</td>\n",
       "      <td>73000</td>\n",
       "      <td>50000</td>\n",
       "      <td>105000</td>\n",
       "      <td>456</td>\n",
       "      <td>176</td>\n",
       "      <td>0</td>\n",
       "    </tr>\n",
       "    <tr>\n",
       "      <th>3</th>\n",
       "      <td>4</td>\n",
       "      <td>2417</td>\n",
       "      <td>NAVAL ARCHITECTURE AND MARINE ENGINEERING</td>\n",
       "      <td>1258.0</td>\n",
       "      <td>1123.0</td>\n",
       "      <td>135.0</td>\n",
       "      <td>Engineering</td>\n",
       "      <td>0.107313</td>\n",
       "      <td>16</td>\n",
       "      <td>758</td>\n",
       "      <td>...</td>\n",
       "      <td>150</td>\n",
       "      <td>692</td>\n",
       "      <td>40</td>\n",
       "      <td>0.050125</td>\n",
       "      <td>70000</td>\n",
       "      <td>43000</td>\n",
       "      <td>80000</td>\n",
       "      <td>529</td>\n",
       "      <td>102</td>\n",
       "      <td>0</td>\n",
       "    </tr>\n",
       "    <tr>\n",
       "      <th>4</th>\n",
       "      <td>5</td>\n",
       "      <td>2405</td>\n",
       "      <td>CHEMICAL ENGINEERING</td>\n",
       "      <td>32260.0</td>\n",
       "      <td>21239.0</td>\n",
       "      <td>11021.0</td>\n",
       "      <td>Engineering</td>\n",
       "      <td>0.341631</td>\n",
       "      <td>289</td>\n",
       "      <td>25694</td>\n",
       "      <td>...</td>\n",
       "      <td>5180</td>\n",
       "      <td>16697</td>\n",
       "      <td>1672</td>\n",
       "      <td>0.061098</td>\n",
       "      <td>65000</td>\n",
       "      <td>50000</td>\n",
       "      <td>75000</td>\n",
       "      <td>18314</td>\n",
       "      <td>4440</td>\n",
       "      <td>972</td>\n",
       "    </tr>\n",
       "  </tbody>\n",
       "</table>\n",
       "<p>5 rows × 21 columns</p>\n",
       "</div>"
      ],
      "text/plain": [
       "   Rank  Major_code                                      Major    Total  \\\n",
       "0     1        2419                      PETROLEUM ENGINEERING   2339.0   \n",
       "1     2        2416             MINING AND MINERAL ENGINEERING    756.0   \n",
       "2     3        2415                  METALLURGICAL ENGINEERING    856.0   \n",
       "3     4        2417  NAVAL ARCHITECTURE AND MARINE ENGINEERING   1258.0   \n",
       "4     5        2405                       CHEMICAL ENGINEERING  32260.0   \n",
       "\n",
       "       Men    Women Major_category  ShareWomen  Sample_size  Employed  \\\n",
       "0   2057.0    282.0    Engineering    0.120564           36      1976   \n",
       "1    679.0     77.0    Engineering    0.101852            7       640   \n",
       "2    725.0    131.0    Engineering    0.153037            3       648   \n",
       "3   1123.0    135.0    Engineering    0.107313           16       758   \n",
       "4  21239.0  11021.0    Engineering    0.341631          289     25694   \n",
       "\n",
       "       ...        Part_time  Full_time_year_round  Unemployed  \\\n",
       "0      ...              270                  1207          37   \n",
       "1      ...              170                   388          85   \n",
       "2      ...              133                   340          16   \n",
       "3      ...              150                   692          40   \n",
       "4      ...             5180                 16697        1672   \n",
       "\n",
       "   Unemployment_rate  Median  P25th   P75th  College_jobs  Non_college_jobs  \\\n",
       "0           0.018381  110000  95000  125000          1534               364   \n",
       "1           0.117241   75000  55000   90000           350               257   \n",
       "2           0.024096   73000  50000  105000           456               176   \n",
       "3           0.050125   70000  43000   80000           529               102   \n",
       "4           0.061098   65000  50000   75000         18314              4440   \n",
       "\n",
       "   Low_wage_jobs  \n",
       "0            193  \n",
       "1             50  \n",
       "2              0  \n",
       "3              0  \n",
       "4            972  \n",
       "\n",
       "[5 rows x 21 columns]"
      ]
     },
     "execution_count": 23,
     "metadata": {},
     "output_type": "execute_result"
    }
   ],
   "source": [
    "recent_grads.head()"
   ]
  },
  {
   "cell_type": "code",
   "execution_count": 24,
   "metadata": {
    "collapsed": false
   },
   "outputs": [
    {
     "data": {
      "text/html": [
       "<div>\n",
       "<table border=\"1\" class=\"dataframe\">\n",
       "  <thead>\n",
       "    <tr style=\"text-align: right;\">\n",
       "      <th></th>\n",
       "      <th>Rank</th>\n",
       "      <th>Major_code</th>\n",
       "      <th>Major</th>\n",
       "      <th>Total</th>\n",
       "      <th>Men</th>\n",
       "      <th>Women</th>\n",
       "      <th>Major_category</th>\n",
       "      <th>ShareWomen</th>\n",
       "      <th>Sample_size</th>\n",
       "      <th>Employed</th>\n",
       "      <th>...</th>\n",
       "      <th>Part_time</th>\n",
       "      <th>Full_time_year_round</th>\n",
       "      <th>Unemployed</th>\n",
       "      <th>Unemployment_rate</th>\n",
       "      <th>Median</th>\n",
       "      <th>P25th</th>\n",
       "      <th>P75th</th>\n",
       "      <th>College_jobs</th>\n",
       "      <th>Non_college_jobs</th>\n",
       "      <th>Low_wage_jobs</th>\n",
       "    </tr>\n",
       "  </thead>\n",
       "  <tbody>\n",
       "    <tr>\n",
       "      <th>168</th>\n",
       "      <td>169</td>\n",
       "      <td>3609</td>\n",
       "      <td>ZOOLOGY</td>\n",
       "      <td>8409.0</td>\n",
       "      <td>3050.0</td>\n",
       "      <td>5359.0</td>\n",
       "      <td>Biology &amp; Life Science</td>\n",
       "      <td>0.637293</td>\n",
       "      <td>47</td>\n",
       "      <td>6259</td>\n",
       "      <td>...</td>\n",
       "      <td>2190</td>\n",
       "      <td>3602</td>\n",
       "      <td>304</td>\n",
       "      <td>0.046320</td>\n",
       "      <td>26000</td>\n",
       "      <td>20000</td>\n",
       "      <td>39000</td>\n",
       "      <td>2771</td>\n",
       "      <td>2947</td>\n",
       "      <td>743</td>\n",
       "    </tr>\n",
       "    <tr>\n",
       "      <th>169</th>\n",
       "      <td>170</td>\n",
       "      <td>5201</td>\n",
       "      <td>EDUCATIONAL PSYCHOLOGY</td>\n",
       "      <td>2854.0</td>\n",
       "      <td>522.0</td>\n",
       "      <td>2332.0</td>\n",
       "      <td>Psychology &amp; Social Work</td>\n",
       "      <td>0.817099</td>\n",
       "      <td>7</td>\n",
       "      <td>2125</td>\n",
       "      <td>...</td>\n",
       "      <td>572</td>\n",
       "      <td>1211</td>\n",
       "      <td>148</td>\n",
       "      <td>0.065112</td>\n",
       "      <td>25000</td>\n",
       "      <td>24000</td>\n",
       "      <td>34000</td>\n",
       "      <td>1488</td>\n",
       "      <td>615</td>\n",
       "      <td>82</td>\n",
       "    </tr>\n",
       "    <tr>\n",
       "      <th>170</th>\n",
       "      <td>171</td>\n",
       "      <td>5202</td>\n",
       "      <td>CLINICAL PSYCHOLOGY</td>\n",
       "      <td>2838.0</td>\n",
       "      <td>568.0</td>\n",
       "      <td>2270.0</td>\n",
       "      <td>Psychology &amp; Social Work</td>\n",
       "      <td>0.799859</td>\n",
       "      <td>13</td>\n",
       "      <td>2101</td>\n",
       "      <td>...</td>\n",
       "      <td>648</td>\n",
       "      <td>1293</td>\n",
       "      <td>368</td>\n",
       "      <td>0.149048</td>\n",
       "      <td>25000</td>\n",
       "      <td>25000</td>\n",
       "      <td>40000</td>\n",
       "      <td>986</td>\n",
       "      <td>870</td>\n",
       "      <td>622</td>\n",
       "    </tr>\n",
       "    <tr>\n",
       "      <th>171</th>\n",
       "      <td>172</td>\n",
       "      <td>5203</td>\n",
       "      <td>COUNSELING PSYCHOLOGY</td>\n",
       "      <td>4626.0</td>\n",
       "      <td>931.0</td>\n",
       "      <td>3695.0</td>\n",
       "      <td>Psychology &amp; Social Work</td>\n",
       "      <td>0.798746</td>\n",
       "      <td>21</td>\n",
       "      <td>3777</td>\n",
       "      <td>...</td>\n",
       "      <td>965</td>\n",
       "      <td>2738</td>\n",
       "      <td>214</td>\n",
       "      <td>0.053621</td>\n",
       "      <td>23400</td>\n",
       "      <td>19200</td>\n",
       "      <td>26000</td>\n",
       "      <td>2403</td>\n",
       "      <td>1245</td>\n",
       "      <td>308</td>\n",
       "    </tr>\n",
       "    <tr>\n",
       "      <th>172</th>\n",
       "      <td>173</td>\n",
       "      <td>3501</td>\n",
       "      <td>LIBRARY SCIENCE</td>\n",
       "      <td>1098.0</td>\n",
       "      <td>134.0</td>\n",
       "      <td>964.0</td>\n",
       "      <td>Education</td>\n",
       "      <td>0.877960</td>\n",
       "      <td>2</td>\n",
       "      <td>742</td>\n",
       "      <td>...</td>\n",
       "      <td>237</td>\n",
       "      <td>410</td>\n",
       "      <td>87</td>\n",
       "      <td>0.104946</td>\n",
       "      <td>22000</td>\n",
       "      <td>20000</td>\n",
       "      <td>22000</td>\n",
       "      <td>288</td>\n",
       "      <td>338</td>\n",
       "      <td>192</td>\n",
       "    </tr>\n",
       "  </tbody>\n",
       "</table>\n",
       "<p>5 rows × 21 columns</p>\n",
       "</div>"
      ],
      "text/plain": [
       "     Rank  Major_code                   Major   Total     Men   Women  \\\n",
       "168   169        3609                 ZOOLOGY  8409.0  3050.0  5359.0   \n",
       "169   170        5201  EDUCATIONAL PSYCHOLOGY  2854.0   522.0  2332.0   \n",
       "170   171        5202     CLINICAL PSYCHOLOGY  2838.0   568.0  2270.0   \n",
       "171   172        5203   COUNSELING PSYCHOLOGY  4626.0   931.0  3695.0   \n",
       "172   173        3501         LIBRARY SCIENCE  1098.0   134.0   964.0   \n",
       "\n",
       "               Major_category  ShareWomen  Sample_size  Employed  \\\n",
       "168    Biology & Life Science    0.637293           47      6259   \n",
       "169  Psychology & Social Work    0.817099            7      2125   \n",
       "170  Psychology & Social Work    0.799859           13      2101   \n",
       "171  Psychology & Social Work    0.798746           21      3777   \n",
       "172                 Education    0.877960            2       742   \n",
       "\n",
       "         ...        Part_time  Full_time_year_round  Unemployed  \\\n",
       "168      ...             2190                  3602         304   \n",
       "169      ...              572                  1211         148   \n",
       "170      ...              648                  1293         368   \n",
       "171      ...              965                  2738         214   \n",
       "172      ...              237                   410          87   \n",
       "\n",
       "     Unemployment_rate  Median  P25th  P75th  College_jobs  Non_college_jobs  \\\n",
       "168           0.046320   26000  20000  39000          2771              2947   \n",
       "169           0.065112   25000  24000  34000          1488               615   \n",
       "170           0.149048   25000  25000  40000           986               870   \n",
       "171           0.053621   23400  19200  26000          2403              1245   \n",
       "172           0.104946   22000  20000  22000           288               338   \n",
       "\n",
       "     Low_wage_jobs  \n",
       "168            743  \n",
       "169             82  \n",
       "170            622  \n",
       "171            308  \n",
       "172            192  \n",
       "\n",
       "[5 rows x 21 columns]"
      ]
     },
     "execution_count": 24,
     "metadata": {},
     "output_type": "execute_result"
    }
   ],
   "source": [
    "recent_grads.tail()"
   ]
  },
  {
   "cell_type": "code",
   "execution_count": 25,
   "metadata": {
    "collapsed": false
   },
   "outputs": [
    {
     "data": {
      "text/html": [
       "<div>\n",
       "<table border=\"1\" class=\"dataframe\">\n",
       "  <thead>\n",
       "    <tr style=\"text-align: right;\">\n",
       "      <th></th>\n",
       "      <th>Rank</th>\n",
       "      <th>Major_code</th>\n",
       "      <th>Total</th>\n",
       "      <th>Men</th>\n",
       "      <th>Women</th>\n",
       "      <th>ShareWomen</th>\n",
       "      <th>Sample_size</th>\n",
       "      <th>Employed</th>\n",
       "      <th>Full_time</th>\n",
       "      <th>Part_time</th>\n",
       "      <th>Full_time_year_round</th>\n",
       "      <th>Unemployed</th>\n",
       "      <th>Unemployment_rate</th>\n",
       "      <th>Median</th>\n",
       "      <th>P25th</th>\n",
       "      <th>P75th</th>\n",
       "      <th>College_jobs</th>\n",
       "      <th>Non_college_jobs</th>\n",
       "      <th>Low_wage_jobs</th>\n",
       "    </tr>\n",
       "  </thead>\n",
       "  <tbody>\n",
       "    <tr>\n",
       "      <th>count</th>\n",
       "      <td>173.000000</td>\n",
       "      <td>173.000000</td>\n",
       "      <td>172.000000</td>\n",
       "      <td>172.000000</td>\n",
       "      <td>172.000000</td>\n",
       "      <td>172.000000</td>\n",
       "      <td>173.000000</td>\n",
       "      <td>173.000000</td>\n",
       "      <td>173.000000</td>\n",
       "      <td>173.000000</td>\n",
       "      <td>173.000000</td>\n",
       "      <td>173.000000</td>\n",
       "      <td>173.000000</td>\n",
       "      <td>173.000000</td>\n",
       "      <td>173.000000</td>\n",
       "      <td>173.000000</td>\n",
       "      <td>173.000000</td>\n",
       "      <td>173.000000</td>\n",
       "      <td>173.000000</td>\n",
       "    </tr>\n",
       "    <tr>\n",
       "      <th>mean</th>\n",
       "      <td>87.000000</td>\n",
       "      <td>3879.815029</td>\n",
       "      <td>39370.081395</td>\n",
       "      <td>16723.406977</td>\n",
       "      <td>22646.674419</td>\n",
       "      <td>0.522223</td>\n",
       "      <td>356.080925</td>\n",
       "      <td>31192.763006</td>\n",
       "      <td>26029.306358</td>\n",
       "      <td>8832.398844</td>\n",
       "      <td>19694.427746</td>\n",
       "      <td>2416.329480</td>\n",
       "      <td>0.068191</td>\n",
       "      <td>40151.445087</td>\n",
       "      <td>29501.445087</td>\n",
       "      <td>51494.219653</td>\n",
       "      <td>12322.635838</td>\n",
       "      <td>13284.497110</td>\n",
       "      <td>3859.017341</td>\n",
       "    </tr>\n",
       "    <tr>\n",
       "      <th>std</th>\n",
       "      <td>50.084928</td>\n",
       "      <td>1687.753140</td>\n",
       "      <td>63483.491009</td>\n",
       "      <td>28122.433474</td>\n",
       "      <td>41057.330740</td>\n",
       "      <td>0.231205</td>\n",
       "      <td>618.361022</td>\n",
       "      <td>50675.002241</td>\n",
       "      <td>42869.655092</td>\n",
       "      <td>14648.179473</td>\n",
       "      <td>33160.941514</td>\n",
       "      <td>4112.803148</td>\n",
       "      <td>0.030331</td>\n",
       "      <td>11470.181802</td>\n",
       "      <td>9166.005235</td>\n",
       "      <td>14906.279740</td>\n",
       "      <td>21299.868863</td>\n",
       "      <td>23789.655363</td>\n",
       "      <td>6944.998579</td>\n",
       "    </tr>\n",
       "    <tr>\n",
       "      <th>min</th>\n",
       "      <td>1.000000</td>\n",
       "      <td>1100.000000</td>\n",
       "      <td>124.000000</td>\n",
       "      <td>119.000000</td>\n",
       "      <td>0.000000</td>\n",
       "      <td>0.000000</td>\n",
       "      <td>2.000000</td>\n",
       "      <td>0.000000</td>\n",
       "      <td>111.000000</td>\n",
       "      <td>0.000000</td>\n",
       "      <td>111.000000</td>\n",
       "      <td>0.000000</td>\n",
       "      <td>0.000000</td>\n",
       "      <td>22000.000000</td>\n",
       "      <td>18500.000000</td>\n",
       "      <td>22000.000000</td>\n",
       "      <td>0.000000</td>\n",
       "      <td>0.000000</td>\n",
       "      <td>0.000000</td>\n",
       "    </tr>\n",
       "    <tr>\n",
       "      <th>25%</th>\n",
       "      <td>44.000000</td>\n",
       "      <td>2403.000000</td>\n",
       "      <td>4549.750000</td>\n",
       "      <td>2177.500000</td>\n",
       "      <td>1778.250000</td>\n",
       "      <td>0.336026</td>\n",
       "      <td>39.000000</td>\n",
       "      <td>3608.000000</td>\n",
       "      <td>3154.000000</td>\n",
       "      <td>1030.000000</td>\n",
       "      <td>2453.000000</td>\n",
       "      <td>304.000000</td>\n",
       "      <td>0.050306</td>\n",
       "      <td>33000.000000</td>\n",
       "      <td>24000.000000</td>\n",
       "      <td>42000.000000</td>\n",
       "      <td>1675.000000</td>\n",
       "      <td>1591.000000</td>\n",
       "      <td>340.000000</td>\n",
       "    </tr>\n",
       "    <tr>\n",
       "      <th>50%</th>\n",
       "      <td>87.000000</td>\n",
       "      <td>3608.000000</td>\n",
       "      <td>15104.000000</td>\n",
       "      <td>5434.000000</td>\n",
       "      <td>8386.500000</td>\n",
       "      <td>0.534024</td>\n",
       "      <td>130.000000</td>\n",
       "      <td>11797.000000</td>\n",
       "      <td>10048.000000</td>\n",
       "      <td>3299.000000</td>\n",
       "      <td>7413.000000</td>\n",
       "      <td>893.000000</td>\n",
       "      <td>0.067961</td>\n",
       "      <td>36000.000000</td>\n",
       "      <td>27000.000000</td>\n",
       "      <td>47000.000000</td>\n",
       "      <td>4390.000000</td>\n",
       "      <td>4595.000000</td>\n",
       "      <td>1231.000000</td>\n",
       "    </tr>\n",
       "    <tr>\n",
       "      <th>75%</th>\n",
       "      <td>130.000000</td>\n",
       "      <td>5503.000000</td>\n",
       "      <td>38909.750000</td>\n",
       "      <td>14631.000000</td>\n",
       "      <td>22553.750000</td>\n",
       "      <td>0.703299</td>\n",
       "      <td>338.000000</td>\n",
       "      <td>31433.000000</td>\n",
       "      <td>25147.000000</td>\n",
       "      <td>9948.000000</td>\n",
       "      <td>16891.000000</td>\n",
       "      <td>2393.000000</td>\n",
       "      <td>0.087557</td>\n",
       "      <td>45000.000000</td>\n",
       "      <td>33000.000000</td>\n",
       "      <td>60000.000000</td>\n",
       "      <td>14444.000000</td>\n",
       "      <td>11783.000000</td>\n",
       "      <td>3466.000000</td>\n",
       "    </tr>\n",
       "    <tr>\n",
       "      <th>max</th>\n",
       "      <td>173.000000</td>\n",
       "      <td>6403.000000</td>\n",
       "      <td>393735.000000</td>\n",
       "      <td>173809.000000</td>\n",
       "      <td>307087.000000</td>\n",
       "      <td>0.968954</td>\n",
       "      <td>4212.000000</td>\n",
       "      <td>307933.000000</td>\n",
       "      <td>251540.000000</td>\n",
       "      <td>115172.000000</td>\n",
       "      <td>199897.000000</td>\n",
       "      <td>28169.000000</td>\n",
       "      <td>0.177226</td>\n",
       "      <td>110000.000000</td>\n",
       "      <td>95000.000000</td>\n",
       "      <td>125000.000000</td>\n",
       "      <td>151643.000000</td>\n",
       "      <td>148395.000000</td>\n",
       "      <td>48207.000000</td>\n",
       "    </tr>\n",
       "  </tbody>\n",
       "</table>\n",
       "</div>"
      ],
      "text/plain": [
       "             Rank   Major_code          Total            Men          Women  \\\n",
       "count  173.000000   173.000000     172.000000     172.000000     172.000000   \n",
       "mean    87.000000  3879.815029   39370.081395   16723.406977   22646.674419   \n",
       "std     50.084928  1687.753140   63483.491009   28122.433474   41057.330740   \n",
       "min      1.000000  1100.000000     124.000000     119.000000       0.000000   \n",
       "25%     44.000000  2403.000000    4549.750000    2177.500000    1778.250000   \n",
       "50%     87.000000  3608.000000   15104.000000    5434.000000    8386.500000   \n",
       "75%    130.000000  5503.000000   38909.750000   14631.000000   22553.750000   \n",
       "max    173.000000  6403.000000  393735.000000  173809.000000  307087.000000   \n",
       "\n",
       "       ShareWomen  Sample_size       Employed      Full_time      Part_time  \\\n",
       "count  172.000000   173.000000     173.000000     173.000000     173.000000   \n",
       "mean     0.522223   356.080925   31192.763006   26029.306358    8832.398844   \n",
       "std      0.231205   618.361022   50675.002241   42869.655092   14648.179473   \n",
       "min      0.000000     2.000000       0.000000     111.000000       0.000000   \n",
       "25%      0.336026    39.000000    3608.000000    3154.000000    1030.000000   \n",
       "50%      0.534024   130.000000   11797.000000   10048.000000    3299.000000   \n",
       "75%      0.703299   338.000000   31433.000000   25147.000000    9948.000000   \n",
       "max      0.968954  4212.000000  307933.000000  251540.000000  115172.000000   \n",
       "\n",
       "       Full_time_year_round    Unemployed  Unemployment_rate         Median  \\\n",
       "count            173.000000    173.000000         173.000000     173.000000   \n",
       "mean           19694.427746   2416.329480           0.068191   40151.445087   \n",
       "std            33160.941514   4112.803148           0.030331   11470.181802   \n",
       "min              111.000000      0.000000           0.000000   22000.000000   \n",
       "25%             2453.000000    304.000000           0.050306   33000.000000   \n",
       "50%             7413.000000    893.000000           0.067961   36000.000000   \n",
       "75%            16891.000000   2393.000000           0.087557   45000.000000   \n",
       "max           199897.000000  28169.000000           0.177226  110000.000000   \n",
       "\n",
       "              P25th          P75th   College_jobs  Non_college_jobs  \\\n",
       "count    173.000000     173.000000     173.000000        173.000000   \n",
       "mean   29501.445087   51494.219653   12322.635838      13284.497110   \n",
       "std     9166.005235   14906.279740   21299.868863      23789.655363   \n",
       "min    18500.000000   22000.000000       0.000000          0.000000   \n",
       "25%    24000.000000   42000.000000    1675.000000       1591.000000   \n",
       "50%    27000.000000   47000.000000    4390.000000       4595.000000   \n",
       "75%    33000.000000   60000.000000   14444.000000      11783.000000   \n",
       "max    95000.000000  125000.000000  151643.000000     148395.000000   \n",
       "\n",
       "       Low_wage_jobs  \n",
       "count     173.000000  \n",
       "mean     3859.017341  \n",
       "std      6944.998579  \n",
       "min         0.000000  \n",
       "25%       340.000000  \n",
       "50%      1231.000000  \n",
       "75%      3466.000000  \n",
       "max     48207.000000  "
      ]
     },
     "execution_count": 25,
     "metadata": {},
     "output_type": "execute_result"
    }
   ],
   "source": [
    "recent_grads.describe()"
   ]
  },
  {
   "cell_type": "code",
   "execution_count": 26,
   "metadata": {
    "collapsed": true
   },
   "outputs": [],
   "source": [
    "raw_data_count = recent_grads.shape[0]\n"
   ]
  },
  {
   "cell_type": "code",
   "execution_count": 27,
   "metadata": {
    "collapsed": false
   },
   "outputs": [
    {
     "data": {
      "text/plain": [
       "173"
      ]
     },
     "execution_count": 27,
     "metadata": {},
     "output_type": "execute_result"
    }
   ],
   "source": [
    "raw_data_count"
   ]
  },
  {
   "cell_type": "code",
   "execution_count": 28,
   "metadata": {
    "collapsed": true
   },
   "outputs": [],
   "source": [
    "recent_grads.dropna(inplace = True)"
   ]
  },
  {
   "cell_type": "code",
   "execution_count": 29,
   "metadata": {
    "collapsed": true
   },
   "outputs": [],
   "source": [
    "cleaned_data_count = recent_grads.shape[0]"
   ]
  },
  {
   "cell_type": "code",
   "execution_count": 30,
   "metadata": {
    "collapsed": false
   },
   "outputs": [
    {
     "data": {
      "text/plain": [
       "172"
      ]
     },
     "execution_count": 30,
     "metadata": {},
     "output_type": "execute_result"
    }
   ],
   "source": [
    "cleaned_data_count"
   ]
  },
  {
   "cell_type": "code",
   "execution_count": 31,
   "metadata": {
    "collapsed": false
   },
   "outputs": [
    {
     "name": "stdout",
     "output_type": "stream",
     "text": [
      "<class 'pandas.core.frame.DataFrame'>\n",
      "Int64Index: 172 entries, 0 to 172\n",
      "Data columns (total 21 columns):\n",
      "Rank                    172 non-null int64\n",
      "Major_code              172 non-null int64\n",
      "Major                   172 non-null object\n",
      "Total                   172 non-null float64\n",
      "Men                     172 non-null float64\n",
      "Women                   172 non-null float64\n",
      "Major_category          172 non-null object\n",
      "ShareWomen              172 non-null float64\n",
      "Sample_size             172 non-null int64\n",
      "Employed                172 non-null int64\n",
      "Full_time               172 non-null int64\n",
      "Part_time               172 non-null int64\n",
      "Full_time_year_round    172 non-null int64\n",
      "Unemployed              172 non-null int64\n",
      "Unemployment_rate       172 non-null float64\n",
      "Median                  172 non-null int64\n",
      "P25th                   172 non-null int64\n",
      "P75th                   172 non-null int64\n",
      "College_jobs            172 non-null int64\n",
      "Non_college_jobs        172 non-null int64\n",
      "Low_wage_jobs           172 non-null int64\n",
      "dtypes: float64(5), int64(14), object(2)\n",
      "memory usage: 29.6+ KB\n"
     ]
    }
   ],
   "source": [
    "recent_grads.info()\n"
   ]
  },
  {
   "cell_type": "code",
   "execution_count": 32,
   "metadata": {
    "collapsed": false
   },
   "outputs": [
    {
     "data": {
      "text/plain": [
       "<matplotlib.text.Text at 0x11d6ca5c0>"
      ]
     },
     "execution_count": 32,
     "metadata": {},
     "output_type": "execute_result"
    },
    {
     "data": {
      "image/png": "[encoded data removed]",
      "text/plain": [
       "<matplotlib.figure.Figure at 0x11d69eb38>"
      ]
     },
     "metadata": {},
     "output_type": "display_data"
    }
   ],
   "source": [
    "ax = recent_grads[0:20].plot.bar(figsize = (20,6), x = 'Major', y = 'Unemployment_rate')\n",
    "ax.set_xlabel('Major_category')"
   ]
  },
  {
   "cell_type": "code",
   "execution_count": 33,
   "metadata": {
    "collapsed": false
   },
   "outputs": [
    {
     "data": {
      "text/html": [
       "<div>\n",
       "<table border=\"1\" class=\"dataframe\">\n",
       "  <thead>\n",
       "    <tr style=\"text-align: right;\">\n",
       "      <th></th>\n",
       "      <th>Rank</th>\n",
       "      <th>Major_code</th>\n",
       "      <th>Total</th>\n",
       "      <th>Men</th>\n",
       "      <th>Women</th>\n",
       "      <th>ShareWomen</th>\n",
       "      <th>Sample_size</th>\n",
       "      <th>Employed</th>\n",
       "      <th>Full_time</th>\n",
       "      <th>Part_time</th>\n",
       "      <th>Full_time_year_round</th>\n",
       "      <th>Unemployed</th>\n",
       "      <th>Unemployment_rate</th>\n",
       "      <th>Median</th>\n",
       "      <th>P25th</th>\n",
       "      <th>P75th</th>\n",
       "      <th>College_jobs</th>\n",
       "      <th>Non_college_jobs</th>\n",
       "      <th>Low_wage_jobs</th>\n",
       "    </tr>\n",
       "    <tr>\n",
       "      <th>Major_category</th>\n",
       "      <th></th>\n",
       "      <th></th>\n",
       "      <th></th>\n",
       "      <th></th>\n",
       "      <th></th>\n",
       "      <th></th>\n",
       "      <th></th>\n",
       "      <th></th>\n",
       "      <th></th>\n",
       "      <th></th>\n",
       "      <th></th>\n",
       "      <th></th>\n",
       "      <th></th>\n",
       "      <th></th>\n",
       "      <th></th>\n",
       "      <th></th>\n",
       "      <th></th>\n",
       "      <th></th>\n",
       "      <th></th>\n",
       "    </tr>\n",
       "  </thead>\n",
       "  <tbody>\n",
       "    <tr>\n",
       "      <th>Agriculture &amp; Natural Resources</th>\n",
       "      <td>110.333333</td>\n",
       "      <td>1157.888889</td>\n",
       "      <td>8402.222222</td>\n",
       "      <td>4484.111111</td>\n",
       "      <td>3918.111111</td>\n",
       "      <td>0.405267</td>\n",
       "      <td>118.666667</td>\n",
       "      <td>7088.222222</td>\n",
       "      <td>6176.111111</td>\n",
       "      <td>1718.888889</td>\n",
       "      <td>4654.555556</td>\n",
       "      <td>387.333333</td>\n",
       "      <td>0.051817</td>\n",
       "      <td>35111.111111</td>\n",
       "      <td>24666.666667</td>\n",
       "      <td>45566.666667</td>\n",
       "      <td>2075.222222</td>\n",
       "      <td>3690.777778</td>\n",
       "      <td>823.777778</td>\n",
       "    </tr>\n",
       "    <tr>\n",
       "      <th>Arts</th>\n",
       "      <td>131.125000</td>\n",
       "      <td>6015.125000</td>\n",
       "      <td>44641.250000</td>\n",
       "      <td>16798.750000</td>\n",
       "      <td>27842.500000</td>\n",
       "      <td>0.603658</td>\n",
       "      <td>407.500000</td>\n",
       "      <td>36014.250000</td>\n",
       "      <td>25971.625000</td>\n",
       "      <td>14348.875000</td>\n",
       "      <td>19138.875000</td>\n",
       "      <td>3528.500000</td>\n",
       "      <td>0.090173</td>\n",
       "      <td>33062.500000</td>\n",
       "      <td>21962.500000</td>\n",
       "      <td>43662.500000</td>\n",
       "      <td>11848.125000</td>\n",
       "      <td>20465.000000</td>\n",
       "      <td>7514.500000</td>\n",
       "    </tr>\n",
       "    <tr>\n",
       "      <th>Biology &amp; Life Science</th>\n",
       "      <td>95.357143</td>\n",
       "      <td>3475.857143</td>\n",
       "      <td>32418.714286</td>\n",
       "      <td>13208.500000</td>\n",
       "      <td>19210.214286</td>\n",
       "      <td>0.587193</td>\n",
       "      <td>165.500000</td>\n",
       "      <td>21628.357143</td>\n",
       "      <td>17169.785714</td>\n",
       "      <td>8338.285714</td>\n",
       "      <td>11843.000000</td>\n",
       "      <td>1632.428571</td>\n",
       "      <td>0.060918</td>\n",
       "      <td>36421.428571</td>\n",
       "      <td>26614.285714</td>\n",
       "      <td>46085.714286</td>\n",
       "      <td>10802.357143</td>\n",
       "      <td>9084.428571</td>\n",
       "      <td>3053.000000</td>\n",
       "    </tr>\n",
       "    <tr>\n",
       "      <th>Business</th>\n",
       "      <td>55.846154</td>\n",
       "      <td>6213.000000</td>\n",
       "      <td>100182.769231</td>\n",
       "      <td>51373.230769</td>\n",
       "      <td>48809.538462</td>\n",
       "      <td>0.483198</td>\n",
       "      <td>1192.692308</td>\n",
       "      <td>83749.384615</td>\n",
       "      <td>76066.923077</td>\n",
       "      <td>15148.923077</td>\n",
       "      <td>60801.923077</td>\n",
       "      <td>6144.384615</td>\n",
       "      <td>0.071064</td>\n",
       "      <td>43538.461538</td>\n",
       "      <td>33461.538462</td>\n",
       "      <td>54846.153846</td>\n",
       "      <td>11426.000000</td>\n",
       "      <td>38197.692308</td>\n",
       "      <td>9752.923077</td>\n",
       "    </tr>\n",
       "    <tr>\n",
       "      <th>Communications &amp; Journalism</th>\n",
       "      <td>104.000000</td>\n",
       "      <td>1902.500000</td>\n",
       "      <td>98150.250000</td>\n",
       "      <td>32980.250000</td>\n",
       "      <td>65170.000000</td>\n",
       "      <td>0.658384</td>\n",
       "      <td>1127.000000</td>\n",
       "      <td>82665.000000</td>\n",
       "      <td>68332.500000</td>\n",
       "      <td>22454.250000</td>\n",
       "      <td>53557.000000</td>\n",
       "      <td>6713.000000</td>\n",
       "      <td>0.075538</td>\n",
       "      <td>34500.000000</td>\n",
       "      <td>26250.000000</td>\n",
       "      <td>44975.000000</td>\n",
       "      <td>21639.000000</td>\n",
       "      <td>43248.000000</td>\n",
       "      <td>12398.750000</td>\n",
       "    </tr>\n",
       "  </tbody>\n",
       "</table>\n",
       "</div>"
      ],
      "text/plain": [
       "                                       Rank   Major_code          Total  \\\n",
       "Major_category                                                            \n",
       "Agriculture & Natural Resources  110.333333  1157.888889    8402.222222   \n",
       "Arts                             131.125000  6015.125000   44641.250000   \n",
       "Biology & Life Science            95.357143  3475.857143   32418.714286   \n",
       "Business                          55.846154  6213.000000  100182.769231   \n",
       "Communications & Journalism      104.000000  1902.500000   98150.250000   \n",
       "\n",
       "                                          Men         Women  ShareWomen  \\\n",
       "Major_category                                                            \n",
       "Agriculture & Natural Resources   4484.111111   3918.111111    0.405267   \n",
       "Arts                             16798.750000  27842.500000    0.603658   \n",
       "Biology & Life Science           13208.500000  19210.214286    0.587193   \n",
       "Business                         51373.230769  48809.538462    0.483198   \n",
       "Communications & Journalism      32980.250000  65170.000000    0.658384   \n",
       "\n",
       "                                 Sample_size      Employed     Full_time  \\\n",
       "Major_category                                                             \n",
       "Agriculture & Natural Resources   118.666667   7088.222222   6176.111111   \n",
       "Arts                              407.500000  36014.250000  25971.625000   \n",
       "Biology & Life Science            165.500000  21628.357143  17169.785714   \n",
       "Business                         1192.692308  83749.384615  76066.923077   \n",
       "Communications & Journalism      1127.000000  82665.000000  68332.500000   \n",
       "\n",
       "                                    Part_time  Full_time_year_round  \\\n",
       "Major_category                                                        \n",
       "Agriculture & Natural Resources   1718.888889           4654.555556   \n",
       "Arts                             14348.875000          19138.875000   \n",
       "Biology & Life Science            8338.285714          11843.000000   \n",
       "Business                         15148.923077          60801.923077   \n",
       "Communications & Journalism      22454.250000          53557.000000   \n",
       "\n",
       "                                  Unemployed  Unemployment_rate        Median  \\\n",
       "Major_category                                                                  \n",
       "Agriculture & Natural Resources   387.333333           0.051817  35111.111111   \n",
       "Arts                             3528.500000           0.090173  33062.500000   \n",
       "Biology & Life Science           1632.428571           0.060918  36421.428571   \n",
       "Business                         6144.384615           0.071064  43538.461538   \n",
       "Communications & Journalism      6713.000000           0.075538  34500.000000   \n",
       "\n",
       "                                        P25th         P75th  College_jobs  \\\n",
       "Major_category                                                              \n",
       "Agriculture & Natural Resources  24666.666667  45566.666667   2075.222222   \n",
       "Arts                             21962.500000  43662.500000  11848.125000   \n",
       "Biology & Life Science           26614.285714  46085.714286  10802.357143   \n",
       "Business                         33461.538462  54846.153846  11426.000000   \n",
       "Communications & Journalism      26250.000000  44975.000000  21639.000000   \n",
       "\n",
       "                                 Non_college_jobs  Low_wage_jobs  \n",
       "Major_category                                                    \n",
       "Agriculture & Natural Resources       3690.777778     823.777778  \n",
       "Arts                                 20465.000000    7514.500000  \n",
       "Biology & Life Science                9084.428571    3053.000000  \n",
       "Business                             38197.692308    9752.923077  \n",
       "Communications & Journalism          43248.000000   12398.750000  "
      ]
     },
     "execution_count": 33,
     "metadata": {},
     "output_type": "execute_result"
    }
   ],
   "source": [
    "by_major_category=recent_grads.groupby('Major_category').mean()\n",
    "by_major_category.head()"
   ]
  },
  {
   "cell_type": "code",
   "execution_count": 34,
   "metadata": {
    "collapsed": false
   },
   "outputs": [
    {
     "data": {
      "text/plain": [
       "<matplotlib.axes._subplots.AxesSubplot at 0x110ff0320>"
      ]
     },
     "execution_count": 34,
     "metadata": {},
     "output_type": "execute_result"
    },
    {
     "data": {
      "image/png": "[encoded data removed]",
      "text/plain": [
       "<matplotlib.figure.Figure at 0x119672048>"
      ]
     },
     "metadata": {},
     "output_type": "display_data"
    }
   ],
   "source": [
    "recent_grads.plot.bar(figsize = (30,10), y=['Total','Median'])"
   ]
  },
  {
   "cell_type": "code",
   "execution_count": 35,
   "metadata": {
    "collapsed": false
   },
   "outputs": [],
   "source": [
    "#recent_grads.drop(['ShareWomenfor10000','ShareWomenfor1000000','ShareWomenfor1000'], axis = 1).head()"
   ]
  },
  {
   "cell_type": "code",
   "execution_count": 36,
   "metadata": {
    "collapsed": false
   },
   "outputs": [
    {
     "data": {
      "image/png": "[encoded data removed]",
      "text/plain": [
       "<matplotlib.figure.Figure at 0x11d6c3320>"
      ]
     },
     "metadata": {},
     "output_type": "display_data"
    }
   ],
   "source": [
    "recent_grads['ShareWomenfor100'] = recent_grads['ShareWomen'] * 100\n",
    "recent_grads['Mediank'] = recent_grads['Median'] / 1000\n",
    "recent_grads.sort_values('ShareWomen')\n",
    "ax = recent_grads.plot.bar(figsize = (30,10), y=['ShareWomenfor100','Mediank'])"
   ]
  },
  {
   "cell_type": "code",
   "execution_count": 37,
   "metadata": {
    "collapsed": false
   },
   "outputs": [
    {
     "data": {
      "text/plain": [
       "<matplotlib.axes._subplots.AxesSubplot at 0x11f7ab438>"
      ]
     },
     "execution_count": 37,
     "metadata": {},
     "output_type": "execute_result"
    },
    {
     "data": {
      "image/png": "[encoded data removed]",
      "text/plain": [
       "<matplotlib.figure.Figure at 0x11d1730f0>"
      ]
     },
     "metadata": {},
     "output_type": "display_data"
    }
   ],
   "source": [
    "recent_grads['Full_time_per_100'] = recent_grads['Full_time'] * 100/recent_grads['Total']\n",
    "recent_grads.sort_values(by='Full_time_per_100').plot.bar(figsize = (30,10), y=['Full_time_per_100','Mediank'])"
   ]
  },
  {
   "cell_type": "code",
   "execution_count": 38,
   "metadata": {
    "collapsed": false
   },
   "outputs": [
    {
     "data": {
      "text/plain": [
       "<matplotlib.axes._subplots.AxesSubplot at 0x11f5f2f28>"
      ]
     },
     "execution_count": 38,
     "metadata": {},
     "output_type": "execute_result"
    },
    {
     "data": {
      "image/png": "[encoded data removed]",
      "text/plain": [
       "<matplotlib.figure.Figure at 0x11d12c470>"
      ]
     },
     "metadata": {},
     "output_type": "display_data"
    }
   ],
   "source": [
    "recent_grads.plot.scatter(x = 'ShareWomen', y = 'Unemployment_rate',s = 0.5)"
   ]
  },
  {
   "cell_type": "code",
   "execution_count": 39,
   "metadata": {
    "collapsed": false
   },
   "outputs": [
    {
     "data": {
      "text/plain": [
       "<matplotlib.axes._subplots.AxesSubplot at 0x11fdcd400>"
      ]
     },
     "execution_count": 39,
     "metadata": {},
     "output_type": "execute_result"
    },
    {
     "data": {
      "image/png": "[encoded data removed]",
      "text/plain": [
       "<matplotlib.figure.Figure at 0x120240048>"
      ]
     },
     "metadata": {},
     "output_type": "display_data"
    }
   ],
   "source": [
    "recent_grads.plot.scatter(x = 'Men', y = 'Median',s = 0.5)"
   ]
  },
  {
   "cell_type": "code",
   "execution_count": 40,
   "metadata": {
    "collapsed": false
   },
   "outputs": [
    {
     "data": {
      "text/plain": [
       "<matplotlib.axes._subplots.AxesSubplot at 0x120932978>"
      ]
     },
     "execution_count": 40,
     "metadata": {},
     "output_type": "execute_result"
    },
    {
     "data": {
      "image/png": "[encoded data removed]",
      "text/plain": [
       "<matplotlib.figure.Figure at 0x12093f908>"
      ]
     },
     "metadata": {},
     "output_type": "display_data"
    }
   ],
   "source": [
    "recent_grads.plot.scatter(x = 'Women', y = 'Median',s = 0.5)"
   ]
  },
  {
   "cell_type": "code",
   "execution_count": 44,
   "metadata": {
    "collapsed": false
   },
   "outputs": [
    {
     "data": {
      "image/png": "[encoded data removed]",
      "text/plain": [
       "<matplotlib.figure.Figure at 0x1229d8eb8>"
      ]
     },
     "metadata": {},
     "output_type": "display_data"
    }
   ],
   "source": [
    "# Histogram for a series\n",
    "import matplotlib.ticker as ticker\n",
    "ax = recent_grads.Median.plot.hist(figsize = (30,20), bins = 50, color = 'b')\n",
    "ax.xaxis.set_major_locator(ticker.MultipleLocator(5000))"
   ]
  },
  {
   "cell_type": "code",
   "execution_count": 53,
   "metadata": {
    "collapsed": false
   },
   "outputs": [
    {
     "data": {
      "image/png": "[encoded data removed]",
      "text/plain": [
       "<matplotlib.figure.Figure at 0x122acde80>"
      ]
     },
     "metadata": {},
     "output_type": "display_data"
    }
   ],
   "source": [
    "ax = recent_grads.plot.bar(figsize = (30,20),y = ['Men', 'Women'], width = 0.5)"
   ]
  },
  {
   "cell_type": "code",
   "execution_count": 70,
   "metadata": {
    "collapsed": false
   },
   "outputs": [
    {
     "data": {
      "text/plain": [
       "{'Men': 44.18604651162791, 'Women': 55.81395348837209}"
      ]
     },
     "execution_count": 70,
     "metadata": {},
     "output_type": "execute_result"
    }
   ],
   "source": [
    "menvswomen = {}\n",
    "Men = 0\n",
    "for i, k in enumerate(recent_grads['Major_code']):\n",
    "    if recent_grads['Men'].iloc[i] > recent_grads['Women'].iloc[i]:\n",
    "        Men += 1\n",
    "menvswomen['Men'] = float(Men * 100/recent_grads.shape[0])\n",
    "menvswomen['Women'] = float(100 - menvswomen.get('Men'))\n",
    "menvswomen"
   ]
  },
  {
   "cell_type": "code",
   "execution_count": 66,
   "metadata": {
    "collapsed": false
   },
   "outputs": [
    {
     "data": {
      "text/html": [
       "<div>\n",
       "<table border=\"1\" class=\"dataframe\">\n",
       "  <thead>\n",
       "    <tr style=\"text-align: right;\">\n",
       "      <th></th>\n",
       "      <th>Men</th>\n",
       "      <th>Women</th>\n",
       "    </tr>\n",
       "  </thead>\n",
       "  <tbody>\n",
       "    <tr>\n",
       "      <th>0</th>\n",
       "      <td>2057.0</td>\n",
       "      <td>282.0</td>\n",
       "    </tr>\n",
       "    <tr>\n",
       "      <th>1</th>\n",
       "      <td>679.0</td>\n",
       "      <td>77.0</td>\n",
       "    </tr>\n",
       "    <tr>\n",
       "      <th>2</th>\n",
       "      <td>725.0</td>\n",
       "      <td>131.0</td>\n",
       "    </tr>\n",
       "    <tr>\n",
       "      <th>3</th>\n",
       "      <td>1123.0</td>\n",
       "      <td>135.0</td>\n",
       "    </tr>\n",
       "    <tr>\n",
       "      <th>4</th>\n",
       "      <td>21239.0</td>\n",
       "      <td>11021.0</td>\n",
       "    </tr>\n",
       "  </tbody>\n",
       "</table>\n",
       "</div>"
      ],
      "text/plain": [
       "       Men    Women\n",
       "0   2057.0    282.0\n",
       "1    679.0     77.0\n",
       "2    725.0    131.0\n",
       "3   1123.0    135.0\n",
       "4  21239.0  11021.0"
      ]
     },
     "execution_count": 66,
     "metadata": {},
     "output_type": "execute_result"
    }
   ],
   "source": [
    "recent_grads[['Men','Women']].head()"
   ]
  },
  {
   "cell_type": "code",
   "execution_count": 91,
   "metadata": {
    "collapsed": false
   },
   "outputs": [
    {
     "ename": "TypeError",
     "evalue": "bar() missing 2 required positional arguments: 'left' and 'height'",
     "output_type": "error",
     "traceback": [
      "\u001b[0;31m---------------------------------------------------------------------------\u001b[0m",
      "\u001b[0;31mTypeError\u001b[0m                                 Traceback (most recent call last)",
      "\u001b[0;32m<ipython-input-91-40688ca87660>\u001b[0m in \u001b[0;36m<module>\u001b[0;34m()\u001b[0m\n\u001b[1;32m      1\u001b[0m \u001b[0;31m#recent_grads[:5].plot(x='Major', y='Women')\u001b[0m\u001b[0;34m\u001b[0m\u001b[0;34m\u001b[0m\u001b[0m\n\u001b[1;32m      2\u001b[0m \u001b[0mfig\u001b[0m\u001b[0;34m,\u001b[0m \u001b[0max\u001b[0m \u001b[0;34m=\u001b[0m \u001b[0mplt\u001b[0m\u001b[0;34m.\u001b[0m\u001b[0msubplots\u001b[0m\u001b[0;34m(\u001b[0m\u001b[0;34m)\u001b[0m\u001b[0;34m\u001b[0m\u001b[0m\n\u001b[0;32m----> 3\u001b[0;31m \u001b[0max\u001b[0m\u001b[0;34m.\u001b[0m\u001b[0mbar\u001b[0m\u001b[0;34m(\u001b[0m\u001b[0mx\u001b[0m \u001b[0;34m=\u001b[0m \u001b[0;34m'Rank'\u001b[0m\u001b[0;34m,\u001b[0m \u001b[0my\u001b[0m \u001b[0;34m=\u001b[0m \u001b[0;34m[\u001b[0m\u001b[0;34m(\u001b[0m\u001b[0mrecent_grads\u001b[0m\u001b[0;34m[\u001b[0m\u001b[0;34m'Men'\u001b[0m\u001b[0;34m]\u001b[0m \u001b[0;34m*\u001b[0m \u001b[0;36m100\u001b[0m\u001b[0;34m/\u001b[0m\u001b[0mrecent_grads\u001b[0m\u001b[0;34m[\u001b[0m\u001b[0;34m'Total'\u001b[0m\u001b[0;34m]\u001b[0m\u001b[0;34m)\u001b[0m\u001b[0;34m,\u001b[0m\u001b[0;34m'Women'\u001b[0m\u001b[0;34m]\u001b[0m\u001b[0;34m,\u001b[0m \u001b[0mstacked\u001b[0m \u001b[0;34m=\u001b[0m \u001b[0;32mTrue\u001b[0m\u001b[0;34m,\u001b[0m \u001b[0;34m)\u001b[0m\u001b[0;34m\u001b[0m\u001b[0m\n\u001b[0m",
      "\u001b[0;32m/Users/ramsi/anaconda/envs/py36/lib/python3.6/site-packages/matplotlib/__init__.py\u001b[0m in \u001b[0;36minner\u001b[0;34m(ax, *args, **kwargs)\u001b[0m\n\u001b[1;32m   1890\u001b[0m                     warnings.warn(msg % (label_namer, func.__name__),\n\u001b[1;32m   1891\u001b[0m                                   RuntimeWarning, stacklevel=2)\n\u001b[0;32m-> 1892\u001b[0;31m             \u001b[0;32mreturn\u001b[0m \u001b[0mfunc\u001b[0m\u001b[0;34m(\u001b[0m\u001b[0max\u001b[0m\u001b[0;34m,\u001b[0m \u001b[0;34m*\u001b[0m\u001b[0margs\u001b[0m\u001b[0;34m,\u001b[0m \u001b[0;34m**\u001b[0m\u001b[0mkwargs\u001b[0m\u001b[0;34m)\u001b[0m\u001b[0;34m\u001b[0m\u001b[0m\n\u001b[0m\u001b[1;32m   1893\u001b[0m         \u001b[0mpre_doc\u001b[0m \u001b[0;34m=\u001b[0m \u001b[0minner\u001b[0m\u001b[0;34m.\u001b[0m\u001b[0m__doc__\u001b[0m\u001b[0;34m\u001b[0m\u001b[0m\n\u001b[1;32m   1894\u001b[0m         \u001b[0;32mif\u001b[0m \u001b[0mpre_doc\u001b[0m \u001b[0;32mis\u001b[0m \u001b[0;32mNone\u001b[0m\u001b[0;34m:\u001b[0m\u001b[0;34m\u001b[0m\u001b[0m\n",
      "\u001b[0;31mTypeError\u001b[0m: bar() missing 2 required positional arguments: 'left' and 'height'"
     ]
    },
    {
     "data": {
      "image/png": "[encoded data removed]",
      "text/plain": [
       "<matplotlib.figure.Figure at 0x125c7ffd0>"
      ]
     },
     "metadata": {},
     "output_type": "display_data"
    }
   ],
   "source": [
    "#recent_grads[:5].plot(x='Major', y='Women')\n",
    "fig, ax = plt.subplots()\n",
    "ax.bar(x = 'Rank', y = [(recent_grads['Men'] * 100/recent_grads['Total']),'Women'], stacked = True, )\n"
   ]
  },
  {
   "cell_type": "code",
   "execution_count": null,
   "metadata": {
    "collapsed": true
   },
   "outputs": [],
   "source": []
  }
 ],
 "metadata": {
  "kernelspec": {
   "display_name": "Python 3",
   "language": "python",
   "name": "python3"
  },
  "language_info": {
   "codemirror_mode": {
    "name": "ipython",
    "version": 3
   },
   "file_extension": ".py",
   "mimetype": "text/x-python",
   "name": "python",
   "nbconvert_exporter": "python",
   "pygments_lexer": "ipython3",
   "version": "3.6.0"
  }
 },
 "nbformat": 4,
 "nbformat_minor": 0
}

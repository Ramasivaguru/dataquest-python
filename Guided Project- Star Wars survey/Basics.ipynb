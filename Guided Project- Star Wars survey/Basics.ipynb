{
 "cells": [
  {
   "cell_type": "code",
   "execution_count": 1,
   "metadata": {
    "collapsed": false
   },
   "outputs": [
    {
     "data": {
      "text/plain": [
       "(1187, 38)"
      ]
     },
     "execution_count": 1,
     "metadata": {},
     "output_type": "execute_result"
    }
   ],
   "source": [
    "import pandas as pd\n",
    "star_wars = pd.read_csv('star_wars.csv', encoding = 'ISO-8859-1')\n",
    "star_wars.shape"
   ]
  },
  {
   "cell_type": "code",
   "execution_count": 2,
   "metadata": {
    "collapsed": false
   },
   "outputs": [
    {
     "data": {
      "text/plain": [
       "(1186, 38)"
      ]
     },
     "execution_count": 2,
     "metadata": {},
     "output_type": "execute_result"
    }
   ],
   "source": [
    "star_wars = star_wars[star_wars['RespondentID'].notnull()]\n",
    "star_wars.shape"
   ]
  },
  {
   "cell_type": "code",
   "execution_count": 3,
   "metadata": {
    "collapsed": false
   },
   "outputs": [
    {
     "data": {
      "text/html": [
       "<div>\n",
       "<table border=\"1\" class=\"dataframe\">\n",
       "  <thead>\n",
       "    <tr style=\"text-align: right;\">\n",
       "      <th></th>\n",
       "      <th>RespondentID</th>\n",
       "      <th>Have you seen any of the 6 films in the Star Wars franchise?</th>\n",
       "      <th>Do you consider yourself to be a fan of the Star Wars film franchise?</th>\n",
       "      <th>Which of the following Star Wars films have you seen? Please select all that apply.</th>\n",
       "      <th>Unnamed: 4</th>\n",
       "      <th>Unnamed: 5</th>\n",
       "      <th>Unnamed: 6</th>\n",
       "      <th>Unnamed: 7</th>\n",
       "      <th>Unnamed: 8</th>\n",
       "      <th>Please rank the Star Wars films in order of preference with 1 being your favorite film in the franchise and 6 being your least favorite film.</th>\n",
       "      <th>...</th>\n",
       "      <th>Unnamed: 28</th>\n",
       "      <th>Which character shot first?</th>\n",
       "      <th>Are you familiar with the Expanded Universe?</th>\n",
       "      <th>Do you consider yourself to be a fan of the Expanded Universe?ÂÃ¦</th>\n",
       "      <th>Do you consider yourself to be a fan of the Star Trek franchise?</th>\n",
       "      <th>Gender</th>\n",
       "      <th>Age</th>\n",
       "      <th>Household Income</th>\n",
       "      <th>Education</th>\n",
       "      <th>Location (Census Region)</th>\n",
       "    </tr>\n",
       "  </thead>\n",
       "  <tbody>\n",
       "    <tr>\n",
       "      <th>1</th>\n",
       "      <td>3.292880e+09</td>\n",
       "      <td>Yes</td>\n",
       "      <td>Yes</td>\n",
       "      <td>Star Wars: Episode I  The Phantom Menace</td>\n",
       "      <td>Star Wars: Episode II  Attack of the Clones</td>\n",
       "      <td>Star Wars: Episode III  Revenge of the Sith</td>\n",
       "      <td>Star Wars: Episode IV  A New Hope</td>\n",
       "      <td>Star Wars: Episode V The Empire Strikes Back</td>\n",
       "      <td>Star Wars: Episode VI Return of the Jedi</td>\n",
       "      <td>3</td>\n",
       "      <td>...</td>\n",
       "      <td>Very favorably</td>\n",
       "      <td>I don't understand this question</td>\n",
       "      <td>Yes</td>\n",
       "      <td>No</td>\n",
       "      <td>No</td>\n",
       "      <td>Male</td>\n",
       "      <td>18-29</td>\n",
       "      <td>NaN</td>\n",
       "      <td>High school degree</td>\n",
       "      <td>South Atlantic</td>\n",
       "    </tr>\n",
       "    <tr>\n",
       "      <th>2</th>\n",
       "      <td>3.292880e+09</td>\n",
       "      <td>No</td>\n",
       "      <td>NaN</td>\n",
       "      <td>NaN</td>\n",
       "      <td>NaN</td>\n",
       "      <td>NaN</td>\n",
       "      <td>NaN</td>\n",
       "      <td>NaN</td>\n",
       "      <td>NaN</td>\n",
       "      <td>NaN</td>\n",
       "      <td>...</td>\n",
       "      <td>NaN</td>\n",
       "      <td>NaN</td>\n",
       "      <td>NaN</td>\n",
       "      <td>NaN</td>\n",
       "      <td>Yes</td>\n",
       "      <td>Male</td>\n",
       "      <td>18-29</td>\n",
       "      <td>$0 - $24,999</td>\n",
       "      <td>Bachelor degree</td>\n",
       "      <td>West South Central</td>\n",
       "    </tr>\n",
       "  </tbody>\n",
       "</table>\n",
       "<p>2 rows × 38 columns</p>\n",
       "</div>"
      ],
      "text/plain": [
       "   RespondentID Have you seen any of the 6 films in the Star Wars franchise?  \\\n",
       "1  3.292880e+09                                                Yes             \n",
       "2  3.292880e+09                                                 No             \n",
       "\n",
       "  Do you consider yourself to be a fan of the Star Wars film franchise?  \\\n",
       "1                                                Yes                      \n",
       "2                                                NaN                      \n",
       "\n",
       "  Which of the following Star Wars films have you seen? Please select all that apply.  \\\n",
       "1           Star Wars: Episode I  The Phantom Menace                                    \n",
       "2                                                NaN                                    \n",
       "\n",
       "                                    Unnamed: 4  \\\n",
       "1  Star Wars: Episode II  Attack of the Clones   \n",
       "2                                          NaN   \n",
       "\n",
       "                                    Unnamed: 5  \\\n",
       "1  Star Wars: Episode III  Revenge of the Sith   \n",
       "2                                          NaN   \n",
       "\n",
       "                          Unnamed: 6  \\\n",
       "1  Star Wars: Episode IV  A New Hope   \n",
       "2                                NaN   \n",
       "\n",
       "                                     Unnamed: 7  \\\n",
       "1  Star Wars: Episode V The Empire Strikes Back   \n",
       "2                                           NaN   \n",
       "\n",
       "                                 Unnamed: 8  \\\n",
       "1  Star Wars: Episode VI Return of the Jedi   \n",
       "2                                       NaN   \n",
       "\n",
       "  Please rank the Star Wars films in order of preference with 1 being your favorite film in the franchise and 6 being your least favorite film.  \\\n",
       "1                                                  3                                                                                              \n",
       "2                                                NaN                                                                                              \n",
       "\n",
       "            ...                Unnamed: 28       Which character shot first?  \\\n",
       "1           ...             Very favorably  I don't understand this question   \n",
       "2           ...                        NaN                               NaN   \n",
       "\n",
       "  Are you familiar with the Expanded Universe?  \\\n",
       "1                                          Yes   \n",
       "2                                          NaN   \n",
       "\n",
       "  Do you consider yourself to be a fan of the Expanded Universe?ÂÃ¦  \\\n",
       "1                                                 No                   \n",
       "2                                                NaN                   \n",
       "\n",
       "  Do you consider yourself to be a fan of the Star Trek franchise? Gender  \\\n",
       "1                                                 No                 Male   \n",
       "2                                                Yes                 Male   \n",
       "\n",
       "     Age Household Income           Education Location (Census Region)  \n",
       "1  18-29              NaN  High school degree           South Atlantic  \n",
       "2  18-29     $0 - $24,999     Bachelor degree       West South Central  \n",
       "\n",
       "[2 rows x 38 columns]"
      ]
     },
     "execution_count": 3,
     "metadata": {},
     "output_type": "execute_result"
    }
   ],
   "source": [
    "star_wars.head(2)"
   ]
  },
  {
   "cell_type": "code",
   "execution_count": 4,
   "metadata": {
    "collapsed": false
   },
   "outputs": [],
   "source": [
    "star_wars = star_wars.rename(columns = {'Have you seen any of the 6 films in the Star Wars franchise?':'seen star wars',\n",
    "                           'Do you consider yourself to be a fan of the Star Wars film franchise?':'fan of star wars'})"
   ]
  },
  {
   "cell_type": "code",
   "execution_count": 5,
   "metadata": {
    "collapsed": false
   },
   "outputs": [
    {
     "data": {
      "text/plain": [
       "Yes    936\n",
       "No     250\n",
       "Name: seen star wars, dtype: int64"
      ]
     },
     "execution_count": 5,
     "metadata": {},
     "output_type": "execute_result"
    }
   ],
   "source": [
    "star_wars['seen star wars'].value_counts()"
   ]
  },
  {
   "cell_type": "code",
   "execution_count": 6,
   "metadata": {
    "collapsed": true
   },
   "outputs": [],
   "source": [
    "yes_no = {'Yes': True, 'No': False}\n"
   ]
  },
  {
   "cell_type": "code",
   "execution_count": 7,
   "metadata": {
    "collapsed": false
   },
   "outputs": [],
   "source": [
    "star_wars['seen star wars'] = star_wars['seen star wars'].map(yes_no)"
   ]
  },
  {
   "cell_type": "code",
   "execution_count": 8,
   "metadata": {
    "collapsed": false
   },
   "outputs": [
    {
     "data": {
      "text/plain": [
       "True     936\n",
       "False    250\n",
       "Name: seen star wars, dtype: int64"
      ]
     },
     "execution_count": 8,
     "metadata": {},
     "output_type": "execute_result"
    }
   ],
   "source": [
    "star_wars['seen star wars'].value_counts()"
   ]
  },
  {
   "cell_type": "code",
   "execution_count": 9,
   "metadata": {
    "collapsed": false
   },
   "outputs": [],
   "source": [
    "star_wars['fan of star wars'] = star_wars['fan of star wars'].map(yes_no)"
   ]
  },
  {
   "cell_type": "code",
   "execution_count": 10,
   "metadata": {
    "collapsed": false
   },
   "outputs": [
    {
     "data": {
      "text/plain": [
       "True     552\n",
       "False    284\n",
       "Name: fan of star wars, dtype: int64"
      ]
     },
     "execution_count": 10,
     "metadata": {},
     "output_type": "execute_result"
    }
   ],
   "source": [
    "star_wars['fan of star wars'].value_counts()"
   ]
  },
  {
   "cell_type": "code",
   "execution_count": 11,
   "metadata": {
    "collapsed": false
   },
   "outputs": [],
   "source": [
    "star_wars = star_wars.rename(columns = {'Which of the following Star Wars films have you seen? Please select all that apply.':'which ones'})"
   ]
  },
  {
   "cell_type": "code",
   "execution_count": 12,
   "metadata": {
    "collapsed": false
   },
   "outputs": [],
   "source": [
    "star_wars['which ones'].value_counts()\n",
    "star_wars = star_wars.rename(columns = {'which ones':'seen_1'})"
   ]
  },
  {
   "cell_type": "code",
   "execution_count": 13,
   "metadata": {
    "collapsed": false
   },
   "outputs": [
    {
     "data": {
      "text/plain": [
       "Star Wars: Episode I  The Phantom Menace    673\n",
       "Name: seen_1, dtype: int64"
      ]
     },
     "execution_count": 13,
     "metadata": {},
     "output_type": "execute_result"
    }
   ],
   "source": [
    "star_wars.seen_1.value_counts()"
   ]
  },
  {
   "cell_type": "code",
   "execution_count": 14,
   "metadata": {
    "collapsed": false
   },
   "outputs": [],
   "source": [
    "star_wars['seen_1'] = star_wars['seen_1'].apply(lambda x: True if x == 'Star Wars: Episode I  The Phantom Menace' else False )"
   ]
  },
  {
   "cell_type": "code",
   "execution_count": 15,
   "metadata": {
    "collapsed": false
   },
   "outputs": [
    {
     "data": {
      "text/plain": [
       "True     673\n",
       "False    513\n",
       "Name: seen_1, dtype: int64"
      ]
     },
     "execution_count": 15,
     "metadata": {},
     "output_type": "execute_result"
    }
   ],
   "source": [
    "star_wars.seen_1.value_counts()"
   ]
  },
  {
   "cell_type": "code",
   "execution_count": 16,
   "metadata": {
    "collapsed": true
   },
   "outputs": [],
   "source": [
    "star_wars = star_wars.rename(columns = {'Unnamed: 4':'seen_2',\n",
    "                                       'Unnamed: 5':'seen_3',\n",
    "                                       'Unnamed: 6':'seen_4',\n",
    "                                       'Unnamed: 7':'seen_5',\n",
    "                                       'Unnamed: 8':'seen_6'})"
   ]
  },
  {
   "cell_type": "code",
   "execution_count": 17,
   "metadata": {
    "collapsed": false
   },
   "outputs": [
    {
     "data": {
      "text/plain": [
       "Star Wars: Episode II  Attack of the Clones    571\n",
       "Name: seen_2, dtype: int64"
      ]
     },
     "execution_count": 17,
     "metadata": {},
     "output_type": "execute_result"
    }
   ],
   "source": [
    "star_wars.seen_2.value_counts()"
   ]
  },
  {
   "cell_type": "code",
   "execution_count": 18,
   "metadata": {
    "collapsed": false
   },
   "outputs": [],
   "source": [
    "star_wars.seen_2 = star_wars.seen_2.apply(lambda x: True if x == 'Star Wars: Episode II  Attack of the Clones' else False)"
   ]
  },
  {
   "cell_type": "code",
   "execution_count": 19,
   "metadata": {
    "collapsed": true
   },
   "outputs": [],
   "source": [
    "star_wars.seen_3 = star_wars.seen_3.apply(lambda x: True if x == 'Star Wars: Episode III  Revenge of the Sith' else False)"
   ]
  },
  {
   "cell_type": "code",
   "execution_count": 20,
   "metadata": {
    "collapsed": true
   },
   "outputs": [],
   "source": [
    "star_wars.seen_4 = star_wars.seen_4.apply(lambda x: True if x == 'Star Wars: Episode IV  A New Hope' else False)"
   ]
  },
  {
   "cell_type": "code",
   "execution_count": 21,
   "metadata": {
    "collapsed": true
   },
   "outputs": [],
   "source": [
    "star_wars.seen_5 = star_wars.seen_5.apply(lambda x: True if x == 'Star Wars: Episode V The Empire Strikes Back' else False)"
   ]
  },
  {
   "cell_type": "code",
   "execution_count": 22,
   "metadata": {
    "collapsed": true
   },
   "outputs": [],
   "source": [
    "star_wars.seen_6 = star_wars.seen_6.apply(lambda x: True if x == 'Star Wars: Episode VI Return of the Jedi' else False)"
   ]
  },
  {
   "cell_type": "code",
   "execution_count": 23,
   "metadata": {
    "collapsed": false
   },
   "outputs": [
    {
     "name": "stdout",
     "output_type": "stream",
     "text": [
      "<class 'pandas.core.frame.DataFrame'>\n",
      "Int64Index: 1186 entries, 1 to 1186\n",
      "Data columns (total 38 columns):\n",
      "RespondentID                                                                                                                                     1186 non-null float64\n",
      "seen star wars                                                                                                                                   1186 non-null bool\n",
      "fan of star wars                                                                                                                                 836 non-null object\n",
      "seen_1                                                                                                                                           1186 non-null bool\n",
      "seen_2                                                                                                                                           1186 non-null bool\n",
      "seen_3                                                                                                                                           1186 non-null bool\n",
      "seen_4                                                                                                                                           1186 non-null bool\n",
      "seen_5                                                                                                                                           1186 non-null bool\n",
      "seen_6                                                                                                                                           1186 non-null bool\n",
      "Please rank the Star Wars films in order of preference with 1 being your favorite film in the franchise and 6 being your least favorite film.    835 non-null object\n",
      "Unnamed: 10                                                                                                                                      836 non-null object\n",
      "Unnamed: 11                                                                                                                                      835 non-null object\n",
      "Unnamed: 12                                                                                                                                      836 non-null object\n",
      "Unnamed: 13                                                                                                                                      836 non-null object\n",
      "Unnamed: 14                                                                                                                                      836 non-null object\n",
      "Please state whether you view the following characters favorably, unfavorably, or are unfamiliar with him/her.                                   829 non-null object\n",
      "Unnamed: 16                                                                                                                                      831 non-null object\n",
      "Unnamed: 17                                                                                                                                      831 non-null object\n",
      "Unnamed: 18                                                                                                                                      823 non-null object\n",
      "Unnamed: 19                                                                                                                                      825 non-null object\n",
      "Unnamed: 20                                                                                                                                      814 non-null object\n",
      "Unnamed: 21                                                                                                                                      826 non-null object\n",
      "Unnamed: 22                                                                                                                                      820 non-null object\n",
      "Unnamed: 23                                                                                                                                      812 non-null object\n",
      "Unnamed: 24                                                                                                                                      827 non-null object\n",
      "Unnamed: 25                                                                                                                                      830 non-null object\n",
      "Unnamed: 26                                                                                                                                      821 non-null object\n",
      "Unnamed: 27                                                                                                                                      814 non-null object\n",
      "Unnamed: 28                                                                                                                                      826 non-null object\n",
      "Which character shot first?                                                                                                                      828 non-null object\n",
      "Are you familiar with the Expanded Universe?                                                                                                     828 non-null object\n",
      "Do you consider yourself to be a fan of the Expanded Universe?ÂÃ¦                                                                               213 non-null object\n",
      "Do you consider yourself to be a fan of the Star Trek franchise?                                                                                 1068 non-null object\n",
      "Gender                                                                                                                                           1046 non-null object\n",
      "Age                                                                                                                                              1046 non-null object\n",
      "Household Income                                                                                                                                 858 non-null object\n",
      "Education                                                                                                                                        1036 non-null object\n",
      "Location (Census Region)                                                                                                                         1043 non-null object\n",
      "dtypes: bool(7), float64(1), object(30)\n",
      "memory usage: 304.6+ KB\n"
     ]
    }
   ],
   "source": [
    "star_wars.info()\n"
   ]
  },
  {
   "cell_type": "code",
   "execution_count": 24,
   "metadata": {
    "collapsed": true
   },
   "outputs": [],
   "source": [
    "star_wars[star_wars.columns[9:15]] = star_wars[star_wars.columns[9:15]].astype(float)"
   ]
  },
  {
   "cell_type": "code",
   "execution_count": 25,
   "metadata": {
    "collapsed": true
   },
   "outputs": [],
   "source": [
    "star_wars = star_wars.rename(columns = {'Please rank the Star Wars films in order of preference with 1 being your favorite film in the franchise and 6 being your least favorite film.':'ranking_1',\n",
    "                                       'Unnamed: 10':'ranking_2',\n",
    "                                       'Unnamed: 11':'ranking_3',\n",
    "                                       'Unnamed: 12':'ranking_4',\n",
    "                                       'Unnamed: 13':'ranking_5',\n",
    "                                       'Unnamed: 14':'ranking_6',\n",
    "                                       'ranking_6':'ranking_2',\n",
    "                                        })"
   ]
  },
  {
   "cell_type": "code",
   "execution_count": 26,
   "metadata": {
    "collapsed": false
   },
   "outputs": [],
   "source": [
    "#star_wars.info()"
   ]
  },
  {
   "cell_type": "code",
   "execution_count": 27,
   "metadata": {
    "collapsed": false
   },
   "outputs": [
    {
     "data": {
      "text/html": [
       "<div>\n",
       "<table border=\"1\" class=\"dataframe\">\n",
       "  <thead>\n",
       "    <tr style=\"text-align: right;\">\n",
       "      <th></th>\n",
       "      <th>RespondentID</th>\n",
       "      <th>ranking_1</th>\n",
       "      <th>ranking_2</th>\n",
       "      <th>ranking_3</th>\n",
       "      <th>ranking_4</th>\n",
       "      <th>ranking_5</th>\n",
       "      <th>ranking_6</th>\n",
       "    </tr>\n",
       "  </thead>\n",
       "  <tbody>\n",
       "    <tr>\n",
       "      <th>count</th>\n",
       "      <td>1.186000e+03</td>\n",
       "      <td>835.000000</td>\n",
       "      <td>836.000000</td>\n",
       "      <td>835.000000</td>\n",
       "      <td>836.000000</td>\n",
       "      <td>836.000000</td>\n",
       "      <td>836.000000</td>\n",
       "    </tr>\n",
       "    <tr>\n",
       "      <th>mean</th>\n",
       "      <td>3.290128e+09</td>\n",
       "      <td>3.732934</td>\n",
       "      <td>4.087321</td>\n",
       "      <td>4.341317</td>\n",
       "      <td>3.272727</td>\n",
       "      <td>2.513158</td>\n",
       "      <td>3.047847</td>\n",
       "    </tr>\n",
       "    <tr>\n",
       "      <th>std</th>\n",
       "      <td>1.055639e+06</td>\n",
       "      <td>1.656122</td>\n",
       "      <td>1.365365</td>\n",
       "      <td>1.400464</td>\n",
       "      <td>1.825901</td>\n",
       "      <td>1.578620</td>\n",
       "      <td>1.666897</td>\n",
       "    </tr>\n",
       "    <tr>\n",
       "      <th>min</th>\n",
       "      <td>3.288373e+09</td>\n",
       "      <td>1.000000</td>\n",
       "      <td>1.000000</td>\n",
       "      <td>1.000000</td>\n",
       "      <td>1.000000</td>\n",
       "      <td>1.000000</td>\n",
       "      <td>1.000000</td>\n",
       "    </tr>\n",
       "    <tr>\n",
       "      <th>25%</th>\n",
       "      <td>3.289451e+09</td>\n",
       "      <td>3.000000</td>\n",
       "      <td>3.000000</td>\n",
       "      <td>3.000000</td>\n",
       "      <td>2.000000</td>\n",
       "      <td>1.000000</td>\n",
       "      <td>2.000000</td>\n",
       "    </tr>\n",
       "    <tr>\n",
       "      <th>50%</th>\n",
       "      <td>3.290147e+09</td>\n",
       "      <td>4.000000</td>\n",
       "      <td>4.000000</td>\n",
       "      <td>5.000000</td>\n",
       "      <td>3.000000</td>\n",
       "      <td>2.000000</td>\n",
       "      <td>3.000000</td>\n",
       "    </tr>\n",
       "    <tr>\n",
       "      <th>75%</th>\n",
       "      <td>3.290814e+09</td>\n",
       "      <td>5.000000</td>\n",
       "      <td>5.000000</td>\n",
       "      <td>6.000000</td>\n",
       "      <td>5.000000</td>\n",
       "      <td>3.000000</td>\n",
       "      <td>4.000000</td>\n",
       "    </tr>\n",
       "    <tr>\n",
       "      <th>max</th>\n",
       "      <td>3.292880e+09</td>\n",
       "      <td>6.000000</td>\n",
       "      <td>6.000000</td>\n",
       "      <td>6.000000</td>\n",
       "      <td>6.000000</td>\n",
       "      <td>6.000000</td>\n",
       "      <td>6.000000</td>\n",
       "    </tr>\n",
       "  </tbody>\n",
       "</table>\n",
       "</div>"
      ],
      "text/plain": [
       "       RespondentID   ranking_1   ranking_2   ranking_3   ranking_4  \\\n",
       "count  1.186000e+03  835.000000  836.000000  835.000000  836.000000   \n",
       "mean   3.290128e+09    3.732934    4.087321    4.341317    3.272727   \n",
       "std    1.055639e+06    1.656122    1.365365    1.400464    1.825901   \n",
       "min    3.288373e+09    1.000000    1.000000    1.000000    1.000000   \n",
       "25%    3.289451e+09    3.000000    3.000000    3.000000    2.000000   \n",
       "50%    3.290147e+09    4.000000    4.000000    5.000000    3.000000   \n",
       "75%    3.290814e+09    5.000000    5.000000    6.000000    5.000000   \n",
       "max    3.292880e+09    6.000000    6.000000    6.000000    6.000000   \n",
       "\n",
       "        ranking_5   ranking_6  \n",
       "count  836.000000  836.000000  \n",
       "mean     2.513158    3.047847  \n",
       "std      1.578620    1.666897  \n",
       "min      1.000000    1.000000  \n",
       "25%      1.000000    2.000000  \n",
       "50%      2.000000    3.000000  \n",
       "75%      3.000000    4.000000  \n",
       "max      6.000000    6.000000  "
      ]
     },
     "execution_count": 27,
     "metadata": {},
     "output_type": "execute_result"
    }
   ],
   "source": [
    "star_wars.describe()"
   ]
  },
  {
   "cell_type": "code",
   "execution_count": 28,
   "metadata": {
    "collapsed": false
   },
   "outputs": [],
   "source": [
    "import matplotlib.pyplot as plt\n",
    "%matplotlib inline"
   ]
  },
  {
   "cell_type": "code",
   "execution_count": 29,
   "metadata": {
    "collapsed": false
   },
   "outputs": [
    {
     "data": {
      "text/plain": [
       "6.0    217\n",
       "5.0    203\n",
       "4.0    182\n",
       "3.0    150\n",
       "2.0     47\n",
       "1.0     36\n",
       "Name: ranking_3, dtype: int64"
      ]
     },
     "execution_count": 29,
     "metadata": {},
     "output_type": "execute_result"
    }
   ],
   "source": [
    "star_wars.ranking_3.value_counts()"
   ]
  },
  {
   "cell_type": "code",
   "execution_count": 30,
   "metadata": {
    "collapsed": false
   },
   "outputs": [],
   "source": [
    "avg_movie_ratings = star_wars.iloc[:,9:15].mean()"
   ]
  },
  {
   "cell_type": "code",
   "execution_count": 31,
   "metadata": {
    "collapsed": false
   },
   "outputs": [
    {
     "data": {
      "text/plain": [
       "<matplotlib.text.Text at 0x7fd15d6c3550>"
      ]
     },
     "execution_count": 31,
     "metadata": {},
     "output_type": "execute_result"
    },
    {
     "data": {
      "image/png": "[encoded data removed]",
      "text/plain": [
       "<matplotlib.figure.Figure at 0x7fd15d960860>"
      ]
     },
     "metadata": {},
     "output_type": "display_data"
    }
   ],
   "source": [
    "ax = avg_movie_ratings.plot.barh(color = 'r', title = 'Star Wars avg movie rating')\n",
    "ax.set_xlabel('Rating')\n",
    "ax.set_ylabel('Episodes')"
   ]
  },
  {
   "cell_type": "markdown",
   "metadata": {},
   "source": [
    "## Average Movie ratings for all Star wars movies. Each on represents an episode... Episode 3 seems to be more popular"
   ]
  },
  {
   "cell_type": "code",
   "execution_count": 32,
   "metadata": {
    "collapsed": false
   },
   "outputs": [],
   "source": [
    "most_watched = star_wars.iloc[:,3:9].sum()"
   ]
  },
  {
   "cell_type": "code",
   "execution_count": 33,
   "metadata": {
    "collapsed": false
   },
   "outputs": [
    {
     "data": {
      "text/plain": [
       "<matplotlib.text.Text at 0x7fd15d608198>"
      ]
     },
     "execution_count": 33,
     "metadata": {},
     "output_type": "execute_result"
    },
    {
     "data": {
      "image/png": "[encoded data removed]",
      "text/plain": [
       "<matplotlib.figure.Figure at 0x7fd15d626fd0>"
      ]
     },
     "metadata": {},
     "output_type": "display_data"
    }
   ],
   "source": [
    "ax1 = most_watched.plot.barh(color = 'r', title = 'Star Wars - Most Watched')\n",
    "ax1.set_xlabel('Number of times seen')\n",
    "ax1.set_ylabel('Episodes')"
   ]
  },
  {
   "cell_type": "code",
   "execution_count": 34,
   "metadata": {
    "collapsed": false
   },
   "outputs": [],
   "source": [
    "males = star_wars[star_wars['Gender'] == 'Male']\n",
    "females = star_wars[star_wars['Gender'] == 'Female']"
   ]
  },
  {
   "cell_type": "code",
   "execution_count": 35,
   "metadata": {
    "collapsed": false
   },
   "outputs": [
    {
     "data": {
      "text/html": [
       "<div>\n",
       "<table border=\"1\" class=\"dataframe\">\n",
       "  <thead>\n",
       "    <tr style=\"text-align: right;\">\n",
       "      <th></th>\n",
       "      <th>index</th>\n",
       "      <th>Male Rating</th>\n",
       "    </tr>\n",
       "  </thead>\n",
       "  <tbody>\n",
       "    <tr>\n",
       "      <th>0</th>\n",
       "      <td>ranking_1</td>\n",
       "      <td>4.037825</td>\n",
       "    </tr>\n",
       "    <tr>\n",
       "      <th>1</th>\n",
       "      <td>ranking_2</td>\n",
       "      <td>4.224586</td>\n",
       "    </tr>\n",
       "    <tr>\n",
       "      <th>2</th>\n",
       "      <td>ranking_3</td>\n",
       "      <td>4.274882</td>\n",
       "    </tr>\n",
       "    <tr>\n",
       "      <th>3</th>\n",
       "      <td>ranking_4</td>\n",
       "      <td>2.997636</td>\n",
       "    </tr>\n",
       "    <tr>\n",
       "      <th>4</th>\n",
       "      <td>ranking_5</td>\n",
       "      <td>2.458629</td>\n",
       "    </tr>\n",
       "  </tbody>\n",
       "</table>\n",
       "</div>"
      ],
      "text/plain": [
       "       index  Male Rating\n",
       "0  ranking_1     4.037825\n",
       "1  ranking_2     4.224586\n",
       "2  ranking_3     4.274882\n",
       "3  ranking_4     2.997636\n",
       "4  ranking_5     2.458629"
      ]
     },
     "execution_count": 35,
     "metadata": {},
     "output_type": "execute_result"
    }
   ],
   "source": [
    "male_avg_movie_ratings = pd.DataFrame(males.iloc[:,9:15].mean(), columns = ['Male Rating'])\n",
    "female_avg_movie_ratings = pd.DataFrame(females.iloc[:,9:15].mean(), columns = ['Female Rating'])\n",
    "male_avg_movie_ratings = male_avg_movie_ratings.reset_index()\n",
    "female_avg_movie_ratings = female_avg_movie_ratings.reset_index()\n",
    "male_avg_movie_ratings.head()\n"
   ]
  },
  {
   "cell_type": "code",
   "execution_count": 36,
   "metadata": {
    "collapsed": false
   },
   "outputs": [
    {
     "data": {
      "text/html": [
       "<div>\n",
       "<table border=\"1\" class=\"dataframe\">\n",
       "  <thead>\n",
       "    <tr style=\"text-align: right;\">\n",
       "      <th></th>\n",
       "      <th>Episode</th>\n",
       "      <th>Male Rating</th>\n",
       "      <th>Female Rating</th>\n",
       "    </tr>\n",
       "  </thead>\n",
       "  <tbody>\n",
       "    <tr>\n",
       "      <th>0</th>\n",
       "      <td>ranking_1</td>\n",
       "      <td>4.037825</td>\n",
       "      <td>3.429293</td>\n",
       "    </tr>\n",
       "    <tr>\n",
       "      <th>1</th>\n",
       "      <td>ranking_2</td>\n",
       "      <td>4.224586</td>\n",
       "      <td>3.954660</td>\n",
       "    </tr>\n",
       "    <tr>\n",
       "      <th>2</th>\n",
       "      <td>ranking_3</td>\n",
       "      <td>4.274882</td>\n",
       "      <td>4.418136</td>\n",
       "    </tr>\n",
       "    <tr>\n",
       "      <th>3</th>\n",
       "      <td>ranking_4</td>\n",
       "      <td>2.997636</td>\n",
       "      <td>3.544081</td>\n",
       "    </tr>\n",
       "    <tr>\n",
       "      <th>4</th>\n",
       "      <td>ranking_5</td>\n",
       "      <td>2.458629</td>\n",
       "      <td>2.569270</td>\n",
       "    </tr>\n",
       "  </tbody>\n",
       "</table>\n",
       "</div>"
      ],
      "text/plain": [
       "     Episode  Male Rating  Female Rating\n",
       "0  ranking_1     4.037825       3.429293\n",
       "1  ranking_2     4.224586       3.954660\n",
       "2  ranking_3     4.274882       4.418136\n",
       "3  ranking_4     2.997636       3.544081\n",
       "4  ranking_5     2.458629       2.569270"
      ]
     },
     "execution_count": 36,
     "metadata": {},
     "output_type": "execute_result"
    }
   ],
   "source": [
    "merged_ratings = male_avg_movie_ratings\n",
    "merged_ratings = merged_ratings.merge(female_avg_movie_ratings)\n",
    "merged_ratings.rename(columns = {'index':'Episode'}, inplace = True)\n",
    "merged_ratings.head()\n"
   ]
  },
  {
   "cell_type": "code",
   "execution_count": 37,
   "metadata": {
    "collapsed": false
   },
   "outputs": [
    {
     "data": {
      "text/html": [
       "<div>\n",
       "<table border=\"1\" class=\"dataframe\">\n",
       "  <thead>\n",
       "    <tr style=\"text-align: right;\">\n",
       "      <th></th>\n",
       "      <th>Episode</th>\n",
       "      <th>Male Rating</th>\n",
       "      <th>Female Rating</th>\n",
       "    </tr>\n",
       "  </thead>\n",
       "  <tbody>\n",
       "    <tr>\n",
       "      <th>0</th>\n",
       "      <td>Episode I</td>\n",
       "      <td>4.037825</td>\n",
       "      <td>3.429293</td>\n",
       "    </tr>\n",
       "    <tr>\n",
       "      <th>1</th>\n",
       "      <td>Episode II</td>\n",
       "      <td>4.224586</td>\n",
       "      <td>3.954660</td>\n",
       "    </tr>\n",
       "    <tr>\n",
       "      <th>2</th>\n",
       "      <td>Episode III</td>\n",
       "      <td>4.274882</td>\n",
       "      <td>4.418136</td>\n",
       "    </tr>\n",
       "    <tr>\n",
       "      <th>3</th>\n",
       "      <td>Episode IV</td>\n",
       "      <td>2.997636</td>\n",
       "      <td>3.544081</td>\n",
       "    </tr>\n",
       "    <tr>\n",
       "      <th>4</th>\n",
       "      <td>Episode V</td>\n",
       "      <td>2.458629</td>\n",
       "      <td>2.569270</td>\n",
       "    </tr>\n",
       "  </tbody>\n",
       "</table>\n",
       "</div>"
      ],
      "text/plain": [
       "       Episode  Male Rating  Female Rating\n",
       "0    Episode I     4.037825       3.429293\n",
       "1   Episode II     4.224586       3.954660\n",
       "2  Episode III     4.274882       4.418136\n",
       "3   Episode IV     2.997636       3.544081\n",
       "4    Episode V     2.458629       2.569270"
      ]
     },
     "execution_count": 37,
     "metadata": {},
     "output_type": "execute_result"
    }
   ],
   "source": [
    "movie_map = {'ranking_1':'Episode I',\n",
    "             'ranking_2':'Episode II',\n",
    "             'ranking_3':'Episode III',\n",
    "             'ranking_4':'Episode IV',\n",
    "             'ranking_5':'Episode V',\n",
    "            'ranking_6':'Episode VI'\n",
    "            }\n",
    "merged_ratings['Episode'] = merged_ratings['Episode'].map(movie_map)\n",
    "merged_ratings.head()"
   ]
  },
  {
   "cell_type": "code",
   "execution_count": 38,
   "metadata": {
    "collapsed": false
   },
   "outputs": [
    {
     "data": {
      "text/plain": [
       "<matplotlib.axes._subplots.AxesSubplot at 0x7fd159dbeb70>"
      ]
     },
     "execution_count": 38,
     "metadata": {},
     "output_type": "execute_result"
    },
    {
     "data": {
      "image/png": "[encoded data removed]",
      "text/plain": [
       "<matplotlib.figure.Figure at 0x7fd15d6089b0>"
      ]
     },
     "metadata": {},
     "output_type": "display_data"
    }
   ],
   "source": [
    "merged_ratings.plot.bar('Episode', title = 'Star Wars ratings')"
   ]
  },
  {
   "cell_type": "markdown",
   "metadata": {
    "collapsed": true
   },
   "source": [
    "fig = plt.figure()\n",
    "ax = fig.add_subplot(1,1,1)\n",
    "ax2 = ax.twinx()\n",
    "male_avg_movie_ratings.plot.bar(color = 'b', ax = ax, width = 0.3, position = 1)\n",
    "female_avg_movie_ratings.plot.bar(color = 'r', ax = ax2,width = 0.3, position = 0)\n",
    "ax.set_title('Men vs Women Ratings of Star Wars Episodes')\n",
    "ax.set_ylabel('Rating')"
   ]
  },
  {
   "cell_type": "code",
   "execution_count": 87,
   "metadata": {
    "collapsed": false
   },
   "outputs": [
    {
     "data": {
      "text/plain": [
       "Index(['Episode', 'times watched 1'], dtype='object')"
      ]
     },
     "execution_count": 87,
     "metadata": {},
     "output_type": "execute_result"
    }
   ],
   "source": [
    "most_watched_males = males.iloc[:,3:9].sum()\n",
    "most_watched_males = most_watched_males.reset_index()\n",
    "most_watched_males = most_watched_males.rename(columns = {'index' : 'Episode', 0:'times watched 1'})\n",
    "most_watched_males.columns"
   ]
  },
  {
   "cell_type": "code",
   "execution_count": 88,
   "metadata": {
    "collapsed": false
   },
   "outputs": [],
   "source": [
    "most_watched_females = females.iloc[:,3:9].sum()\n",
    "most_watched_females = most_watched_females.reset_index()\n",
    "most_watched_females = most_watched_females.rename(columns = {'index' : 'Episode', 0:'times watched 2'})"
   ]
  },
  {
   "cell_type": "code",
   "execution_count": 89,
   "metadata": {
    "collapsed": false
   },
   "outputs": [],
   "source": [
    "most_watched_merged = pd.merge(most_watched_males, most_watched_females,on='Episode')"
   ]
  },
  {
   "cell_type": "code",
   "execution_count": 91,
   "metadata": {
    "collapsed": false
   },
   "outputs": [
    {
     "data": {
      "text/html": [
       "<div>\n",
       "<table border=\"1\" class=\"dataframe\">\n",
       "  <thead>\n",
       "    <tr style=\"text-align: right;\">\n",
       "      <th></th>\n",
       "      <th>Episode</th>\n",
       "      <th>times watched 1</th>\n",
       "      <th>times watched 2</th>\n",
       "    </tr>\n",
       "  </thead>\n",
       "  <tbody>\n",
       "    <tr>\n",
       "      <th>0</th>\n",
       "      <td>seen_1</td>\n",
       "      <td>361</td>\n",
       "      <td>298</td>\n",
       "    </tr>\n",
       "    <tr>\n",
       "      <th>1</th>\n",
       "      <td>seen_2</td>\n",
       "      <td>323</td>\n",
       "      <td>237</td>\n",
       "    </tr>\n",
       "    <tr>\n",
       "      <th>2</th>\n",
       "      <td>seen_3</td>\n",
       "      <td>317</td>\n",
       "      <td>222</td>\n",
       "    </tr>\n",
       "    <tr>\n",
       "      <th>3</th>\n",
       "      <td>seen_4</td>\n",
       "      <td>342</td>\n",
       "      <td>255</td>\n",
       "    </tr>\n",
       "    <tr>\n",
       "      <th>4</th>\n",
       "      <td>seen_5</td>\n",
       "      <td>392</td>\n",
       "      <td>353</td>\n",
       "    </tr>\n",
       "  </tbody>\n",
       "</table>\n",
       "</div>"
      ],
      "text/plain": [
       "  Episode  times watched 1  times watched 2\n",
       "0  seen_1              361              298\n",
       "1  seen_2              323              237\n",
       "2  seen_3              317              222\n",
       "3  seen_4              342              255\n",
       "4  seen_5              392              353"
      ]
     },
     "execution_count": 91,
     "metadata": {},
     "output_type": "execute_result"
    }
   ],
   "source": [
    "most_watched_merged.head()"
   ]
  },
  {
   "cell_type": "code",
   "execution_count": 93,
   "metadata": {
    "collapsed": false
   },
   "outputs": [
    {
     "data": {
      "text/html": [
       "<div>\n",
       "<table border=\"1\" class=\"dataframe\">\n",
       "  <thead>\n",
       "    <tr style=\"text-align: right;\">\n",
       "      <th></th>\n",
       "      <th>Episode</th>\n",
       "      <th>Times Watched - Men</th>\n",
       "      <th>Times Watched - Women</th>\n",
       "    </tr>\n",
       "  </thead>\n",
       "  <tbody>\n",
       "    <tr>\n",
       "      <th>0</th>\n",
       "      <td>seen_1</td>\n",
       "      <td>361</td>\n",
       "      <td>298</td>\n",
       "    </tr>\n",
       "    <tr>\n",
       "      <th>1</th>\n",
       "      <td>seen_2</td>\n",
       "      <td>323</td>\n",
       "      <td>237</td>\n",
       "    </tr>\n",
       "    <tr>\n",
       "      <th>2</th>\n",
       "      <td>seen_3</td>\n",
       "      <td>317</td>\n",
       "      <td>222</td>\n",
       "    </tr>\n",
       "    <tr>\n",
       "      <th>3</th>\n",
       "      <td>seen_4</td>\n",
       "      <td>342</td>\n",
       "      <td>255</td>\n",
       "    </tr>\n",
       "    <tr>\n",
       "      <th>4</th>\n",
       "      <td>seen_5</td>\n",
       "      <td>392</td>\n",
       "      <td>353</td>\n",
       "    </tr>\n",
       "  </tbody>\n",
       "</table>\n",
       "</div>"
      ],
      "text/plain": [
       "  Episode  Times Watched - Men  Times Watched - Women\n",
       "0  seen_1                  361                    298\n",
       "1  seen_2                  323                    237\n",
       "2  seen_3                  317                    222\n",
       "3  seen_4                  342                    255\n",
       "4  seen_5                  392                    353"
      ]
     },
     "execution_count": 93,
     "metadata": {},
     "output_type": "execute_result"
    }
   ],
   "source": [
    "most_watched_merged.rename(inplace = True, columns = {'times watched 1':'Times Watched - Men','times watched 2':'Times Watched - Women'})\n",
    "most_watched_merged.head()"
   ]
  },
  {
   "cell_type": "code",
   "execution_count": 96,
   "metadata": {
    "collapsed": false
   },
   "outputs": [
    {
     "data": {
      "text/plain": [
       "<matplotlib.axes._subplots.AxesSubplot at 0x7fd159afa278>"
      ]
     },
     "execution_count": 96,
     "metadata": {},
     "output_type": "execute_result"
    },
    {
     "data": {
      "text/plain": [
       "<matplotlib.figure.Figure at 0x7fd159a764a8>"
      ]
     },
     "metadata": {},
     "output_type": "display_data"
    },
    {
     "data": {
      "image/png": "[encoded data removed]",
      "text/plain": [
       "<matplotlib.figure.Figure at 0x7fd159b0ea58>"
      ]
     },
     "metadata": {},
     "output_type": "display_data"
    }
   ],
   "source": [
    "fig = plt.figure(figsize = (12,10))\n",
    "most_watched_merged.plot.bar(x = 'Episode',title = 'Star Wars Movies Watched', fig = fig)"
   ]
  },
  {
   "cell_type": "code",
   "execution_count": 97,
   "metadata": {
    "collapsed": false
   },
   "outputs": [
    {
     "data": {
      "text/plain": [
       "Some college or Associate degree    328\n",
       "Bachelor degree                     321\n",
       "Graduate degree                     275\n",
       "High school degree                  105\n",
       "Less than high school degree          7\n",
       "Name: Education, dtype: int64"
      ]
     },
     "execution_count": 97,
     "metadata": {},
     "output_type": "execute_result"
    }
   ],
   "source": [
    "star_wars.Education.value_counts()"
   ]
  },
  {
   "cell_type": "code",
   "execution_count": null,
   "metadata": {
    "collapsed": true
   },
   "outputs": [],
   "source": []
  }
 ],
 "metadata": {
  "kernelspec": {
   "display_name": "Python 3",
   "language": "python",
   "name": "python3"
  },
  "language_info": {
   "codemirror_mode": {
    "name": "ipython",
    "version": 3
   },
   "file_extension": ".py",
   "mimetype": "text/x-python",
   "name": "python",
   "nbconvert_exporter": "python",
   "pygments_lexer": "ipython3",
   "version": "3.4.3"
  }
 },
 "nbformat": 4,
 "nbformat_minor": 0
}
